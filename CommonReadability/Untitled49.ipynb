{
 "cells": [
  {
   "cell_type": "code",
   "execution_count": null,
   "metadata": {
    "colab": {
     "base_uri": "https://localhost:8080/"
    },
    "id": "I_aR_-1RRDUe",
    "outputId": "def5acf2-805a-4917-f96a-f1b1e74d9080",
    "scrolled": true
   },
   "outputs": [],
   "source": [
    "!nvidia-smi"
   ]
  },
  {
   "cell_type": "code",
   "execution_count": null,
   "metadata": {
    "colab": {
     "base_uri": "https://localhost:8080/"
    },
    "id": "h81Xi4ZDc70J",
    "outputId": "a8f0dc89-9bcd-4c88-c88f-29b3c8abe509"
   },
   "outputs": [],
   "source": [
    "from google.colab import drive \n",
    "drive.mount('/content/drive')"
   ]
  },
  {
   "cell_type": "code",
   "execution_count": null,
   "metadata": {
    "colab": {
     "base_uri": "https://localhost:8080/"
    },
    "id": "vbzoP_7aRS-2",
    "outputId": "59a1a7c6-b03c-42c4-e37e-97c9005aafe3",
    "scrolled": true
   },
   "outputs": [],
   "source": [
    "!pip install transformers"
   ]
  },
  {
   "cell_type": "code",
   "execution_count": 4,
   "metadata": {
    "id": "erg49PoeRKVf"
   },
   "outputs": [],
   "source": [
    "import os \n",
    "import numpy as np \n",
    "import pandas as pd \n",
    "import torch \n",
    "from torch import nn\n",
    "from transformers import RobertaModel,RobertaTokenizer,get_linear_schedule_with_warmup,AdamW,AutoConfig,get_cosine_schedule_with_warmup\n",
    "from sklearn.model_selection import KFold\n",
    "from torch.utils.data import Dataset,DataLoader\n",
    "from torch.nn.utils.rnn import pad_sequence\n",
    "from tqdm import tqdm \n",
    "import time \n",
    "from pathlib import Path\n",
    "import random\n",
    "import gc\n",
    "from sklearn.metrics import mean_squared_error\n",
    "import seaborn as sns\n",
    "from matplotlib import pyplot as plt\n",
    "gc.enable()"
   ]
  },
  {
   "cell_type": "code",
   "execution_count": null,
   "metadata": {
    "colab": {
     "base_uri": "https://localhost:8080/"
    },
    "id": "l1GEk-8bRo3O",
    "outputId": "db61ab5e-4fed-4b18-b188-cd858832be0d"
   },
   "outputs": [],
   "source": [
    "os.environ['KAGGLE_USERNAME']=\"daominhkhanh\"\n",
    "os.environ['KAGGLE_KEY']=\"a6b5596f1c2c9adbeda916b0ec27faba\"\n",
    "!kaggle competitions download -c commonlitreadabilityprize"
   ]
  },
  {
   "cell_type": "code",
   "execution_count": null,
   "metadata": {
    "colab": {
     "base_uri": "https://localhost:8080/"
    },
    "id": "BX-AmVhpRrJW",
    "outputId": "4b421ef2-966d-433e-d693-48ace9823891"
   },
   "outputs": [],
   "source": [
    "!unzip train.csv.zip"
   ]
  },
  {
   "cell_type": "markdown",
   "metadata": {
    "id": "YGYxnvq-Rxv9"
   },
   "source": [
    "#Constrant"
   ]
  },
  {
   "cell_type": "code",
   "execution_count": 7,
   "metadata": {
    "id": "tByWUGCMR0_4"
   },
   "outputs": [],
   "source": [
    "K_FOLDS=5\n",
    "BATCH_SIZE=8\n",
    "DEVICE=torch.device(\"cuda\" if torch.cuda.is_available() else \"cpu\")\n",
    "SEED=1000\n",
    "MAX_LENGTH=300"
   ]
  },
  {
   "cell_type": "markdown",
   "metadata": {
    "id": "Kx71WflLRtoa"
   },
   "source": [
    "#Data"
   ]
  },
  {
   "cell_type": "code",
   "execution_count": 8,
   "metadata": {
    "id": "D8pAfJXARs78"
   },
   "outputs": [],
   "source": [
    "train=pd.read_csv('train.csv')\n",
    "test=pd.read_csv('test.csv')\n",
    "submission=pd.read_csv('sample_submission.csv')"
   ]
  },
  {
   "cell_type": "code",
   "execution_count": 9,
   "metadata": {
    "id": "IrA8QrKUR6sG"
   },
   "outputs": [],
   "source": [
    "train['length']=train.excerpt.astype(str).apply(lambda x: len(x.split()))\n",
    "test['length']=test.excerpt.astype(str).apply(lambda x: len(x.split()))"
   ]
  },
  {
   "cell_type": "code",
   "execution_count": null,
   "metadata": {
    "colab": {
     "base_uri": "https://localhost:8080/",
     "height": 300
    },
    "id": "3Vtf3HXvR78D",
    "outputId": "9ada6392-af7b-446e-9a64-4a3605af79c0",
    "scrolled": true
   },
   "outputs": [],
   "source": [
    "train.describe()"
   ]
  },
  {
   "cell_type": "code",
   "execution_count": null,
   "metadata": {
    "colab": {
     "base_uri": "https://localhost:8080/",
     "height": 351
    },
    "id": "NUMmF3SOSAoT",
    "outputId": "9e454424-869c-4bed-aaba-552131ab3b37"
   },
   "outputs": [],
   "source": [
    "sns.countplot(train.length)"
   ]
  },
  {
   "cell_type": "code",
   "execution_count": null,
   "metadata": {
    "id": "Zs-QmOloSDs2"
   },
   "outputs": [],
   "source": [
    "train['number_sentence']=train.excerpt.astype(str).apply(lambda x: len(x.split('.')))\n",
    "test['number_sentence']=test.excerpt.astype(str).apply(lambda x:len(x.split('.')))"
   ]
  },
  {
   "cell_type": "code",
   "execution_count": null,
   "metadata": {
    "colab": {
     "base_uri": "https://localhost:8080/",
     "height": 352
    },
    "id": "OE3js5lLSRi3",
    "outputId": "5c4d0af7-74ef-4710-9931-4b6cf6a2f1f2"
   },
   "outputs": [],
   "source": [
    "sns.countplot(train.number_sentence)"
   ]
  },
  {
   "cell_type": "code",
   "execution_count": 14,
   "metadata": {
    "id": "RgaP-MVYSUkf"
   },
   "outputs": [],
   "source": [
    "train.drop(['url_legal','license','standard_error'],axis=1,inplace=True)\n",
    "test.drop(['url_legal','license'],axis=1,inplace=True)"
   ]
  },
  {
   "cell_type": "code",
   "execution_count": null,
   "metadata": {
    "colab": {
     "base_uri": "https://localhost:8080/",
     "height": 313,
     "referenced_widgets": [
      "90625e4fda874247a373ea62e8322311",
      "a31937841f9d465688174387169059ee",
      "63f63a1946704d4288bc11b4e51e119d",
      "65ceab78c24e4bde811c16ea8f44a95b",
      "88a944d4852e443f9ef7cac5a4f67e2d",
      "8e79c4e07580422082baed764527903a",
      "ecb2f36d557243d894d8f0cde3995168",
      "4ef7476c95784172ba6773a3413136fb",
      "34a239a691fe4c3fa31da027978ade95",
      "2ea6a936b11f4126b12c10933253581a",
      "6f6ab148cc3e4dce84b852af4dbfbfd7",
      "665611277014450490784723c8f147e5",
      "0f49a008970748a287195538faa8af32",
      "251efc3df9ca4684924565f3539bac5a",
      "1106c09b809245b5addbf8db56204ba0",
      "d5fa033eb5634f60b325ca9728d4d965",
      "fea53606bdc54290bbf70caa58318908",
      "e05717b0d88144299e825a38a6d5bd23",
      "ce317301989140d9ba575e2db85c525b",
      "b54d1d918e04400382f39896a00480fd",
      "83c2e5d2b3114a619f1253296674b0a2",
      "2a09531c37eb4382afb1d261ab9dded5",
      "aa3f203dd2694ac1b99035eb6025b22b",
      "8d5e23fd53df478abbef6d5166bd2ee2",
      "a1eadfa1eb0f40f4bca074a37f3e3068",
      "e051e27f80844ef4be8d49a6fa1be23b",
      "ff6be447a8ab4058b4bbd4b3a05d571c",
      "7567cb6d68964661b2a5cebfe7202914",
      "1d1c9e2324644266a91ebfe54f9d6f50",
      "769e18b90ff64c62aa006653423281fd",
      "5399ec1eadd446e4b2d740997fbd3a96",
      "e96766d2617d40c688be429d5d47d229",
      "b1aa86f85dab43a79a39ae7ce5710864",
      "96f66224fede433f82ea4a68e8947d5b",
      "7ea8e11eacaa42ba9456c1e76375513b",
      "b66b48012c254accb4b9d96ffaa541ec",
      "24394414f91b4b18b5e2928e4aef7469",
      "302de3f753234e8fab34def8b757c4c1",
      "d5f5e42e42f54adfae0e039ca25d91d4",
      "ac2bb01f92cf4bc780151b07eeb9bf7e",
      "aa490263e42e4d3cb6370b827ac9119b",
      "274ce5380e1a4759aefe116e19ef80f4",
      "6354f98c5c7f4feca71412d5f8c44883",
      "232b71d3592c4fcd9f2bf51299be7ba7",
      "008963386ab5436fa34180877c33335c",
      "30e1bae48b8441d49b2f964cbf6db527",
      "6314973109164e599daf07c5bfd61fce",
      "f14aa799d92e43b59ae02b230e6e820b"
     ]
    },
    "id": "38PRvWVeSWY2",
    "outputId": "5a8d1561-2d17-4e95-f385-dd96f64d453a"
   },
   "outputs": [],
   "source": [
    "tokenizer_base=RobertaTokenizer.from_pretrained('roberta-base')\n",
    "tokenizer_large=RobertaTokenizer.from_pretrained('roberta-large')"
   ]
  },
  {
   "cell_type": "code",
   "execution_count": 16,
   "metadata": {
    "id": "_XIpcjTC-CP1"
   },
   "outputs": [],
   "source": [
    "train['length_encode']=train.excerpt.astype(str).apply(lambda x: len(tokenizer_base.encode(x)))"
   ]
  },
  {
   "cell_type": "code",
   "execution_count": 17,
   "metadata": {
    "colab": {
     "base_uri": "https://localhost:8080/",
     "height": 300
    },
    "id": "INRqeF0a-CSG",
    "outputId": "4c757bd1-4ba9-48ea-bb05-9ff0e5d20d73"
   },
   "outputs": [
    {
     "data": {
      "text/html": [
       "<div>\n",
       "<style scoped>\n",
       "    .dataframe tbody tr th:only-of-type {\n",
       "        vertical-align: middle;\n",
       "    }\n",
       "\n",
       "    .dataframe tbody tr th {\n",
       "        vertical-align: top;\n",
       "    }\n",
       "\n",
       "    .dataframe thead th {\n",
       "        text-align: right;\n",
       "    }\n",
       "</style>\n",
       "<table border=\"1\" class=\"dataframe\">\n",
       "  <thead>\n",
       "    <tr style=\"text-align: right;\">\n",
       "      <th></th>\n",
       "      <th>target</th>\n",
       "      <th>length</th>\n",
       "      <th>number_sentence</th>\n",
       "      <th>length_encode</th>\n",
       "    </tr>\n",
       "  </thead>\n",
       "  <tbody>\n",
       "    <tr>\n",
       "      <th>count</th>\n",
       "      <td>2834.000000</td>\n",
       "      <td>2834.000000</td>\n",
       "      <td>2834.000000</td>\n",
       "      <td>2834.000000</td>\n",
       "    </tr>\n",
       "    <tr>\n",
       "      <th>mean</th>\n",
       "      <td>-0.959319</td>\n",
       "      <td>172.982004</td>\n",
       "      <td>10.034933</td>\n",
       "      <td>217.831334</td>\n",
       "    </tr>\n",
       "    <tr>\n",
       "      <th>std</th>\n",
       "      <td>1.033579</td>\n",
       "      <td>16.974390</td>\n",
       "      <td>3.977946</td>\n",
       "      <td>24.947523</td>\n",
       "    </tr>\n",
       "    <tr>\n",
       "      <th>min</th>\n",
       "      <td>-3.676268</td>\n",
       "      <td>135.000000</td>\n",
       "      <td>3.000000</td>\n",
       "      <td>157.000000</td>\n",
       "    </tr>\n",
       "    <tr>\n",
       "      <th>25%</th>\n",
       "      <td>-1.690320</td>\n",
       "      <td>159.000000</td>\n",
       "      <td>7.000000</td>\n",
       "      <td>200.000000</td>\n",
       "    </tr>\n",
       "    <tr>\n",
       "      <th>50%</th>\n",
       "      <td>-0.912190</td>\n",
       "      <td>175.000000</td>\n",
       "      <td>9.000000</td>\n",
       "      <td>217.500000</td>\n",
       "    </tr>\n",
       "    <tr>\n",
       "      <th>75%</th>\n",
       "      <td>-0.202540</td>\n",
       "      <td>188.000000</td>\n",
       "      <td>12.000000</td>\n",
       "      <td>235.000000</td>\n",
       "    </tr>\n",
       "    <tr>\n",
       "      <th>max</th>\n",
       "      <td>1.711390</td>\n",
       "      <td>205.000000</td>\n",
       "      <td>35.000000</td>\n",
       "      <td>322.000000</td>\n",
       "    </tr>\n",
       "  </tbody>\n",
       "</table>\n",
       "</div>"
      ],
      "text/plain": [
       "            target       length  number_sentence  length_encode\n",
       "count  2834.000000  2834.000000      2834.000000    2834.000000\n",
       "mean     -0.959319   172.982004        10.034933     217.831334\n",
       "std       1.033579    16.974390         3.977946      24.947523\n",
       "min      -3.676268   135.000000         3.000000     157.000000\n",
       "25%      -1.690320   159.000000         7.000000     200.000000\n",
       "50%      -0.912190   175.000000         9.000000     217.500000\n",
       "75%      -0.202540   188.000000        12.000000     235.000000\n",
       "max       1.711390   205.000000        35.000000     322.000000"
      ]
     },
     "execution_count": 17,
     "metadata": {
      "tags": []
     },
     "output_type": "execute_result"
    }
   ],
   "source": [
    "train.describe()"
   ]
  },
  {
   "cell_type": "code",
   "execution_count": null,
   "metadata": {
    "colab": {
     "base_uri": "https://localhost:8080/"
    },
    "id": "LHuwSyRm-CVA",
    "outputId": "fbc4f88c-b02a-40e7-8dac-cdd03f29252a"
   },
   "outputs": [],
   "source": [
    "temp=train.excerpt.values.tolist()[10]\n",
    "print(temp)"
   ]
  },
  {
   "cell_type": "code",
   "execution_count": null,
   "metadata": {
    "id": "j9GLbXNf-CXp"
   },
   "outputs": [],
   "source": [
    "token=token=tokenizer_base.encode_plus(\n",
    "        temp,\n",
    "        padding=False,\n",
    "        return_attention_mask=True,\n",
    "        return_tensors='pt'\n",
    "    )"
   ]
  },
  {
   "cell_type": "code",
   "execution_count": null,
   "metadata": {
    "colab": {
     "base_uri": "https://localhost:8080/"
    },
    "id": "1qLSeYny-JQH",
    "outputId": "8eaaf629-0363-4ddd-b93a-d2e2fef15d12"
   },
   "outputs": [],
   "source": [
    "print(token.input_ids.size())\n",
    "print(token.attention_mask.size())"
   ]
  },
  {
   "cell_type": "markdown",
   "metadata": {
    "id": "HGrbN9iwSuJu"
   },
   "source": [
    "# DataLoader"
   ]
  },
  {
   "cell_type": "code",
   "execution_count": 21,
   "metadata": {
    "id": "Zo0WykJwSvtH"
   },
   "outputs": [],
   "source": [
    "def convert_features(excerpt,tokenizer):\n",
    "    token=tokenizer.encode_plus(\n",
    "        excerpt,\n",
    "        padding=False,\n",
    "        return_attention_mask=True,\n",
    "        #return_token_type_ids=True,\n",
    "        return_tensors='pt'\n",
    "    )\n",
    "    return token['input_ids'].flatten(),token['attention_mask'].flatten()\n",
    "\n",
    "class ColeridgeInitiative(Dataset):\n",
    "    def __init__(self,data,tokenizer,is_test=False):\n",
    "        self.tokenizer=tokenizer\n",
    "        self.data=data\n",
    "        self.is_test=is_test\n",
    "        self.excerpts=self.data.excerpt.values.tolist()\n",
    "        if is_test is False:\n",
    "            self.targets=self.data.target.values.tolist()\n",
    "        \n",
    "    def __len__(self):\n",
    "        return len(self.data)\n",
    "\n",
    "    def __getitem__(self,idx):\n",
    "\n",
    "        if self.is_test is False:\n",
    "            excerpt,target=self.excerpts[idx],self.targets[idx]\n",
    "            excerpt=excerpt.replace(\"\\n\",\" \")\n",
    "            input_ids,attention_mask=convert_features(excerpt,self.tokenizer)\n",
    "            return input_ids,attention_mask,target\n",
    "        else:\n",
    "            excerpt=self.excerpts[idx]\n",
    "            input_ids,attention_mask=convert_features(excerpt,self.tokenizer)\n",
    "            return input_ids,attention_mask\n",
    "\n",
    "class MyCollate:\n",
    "  def __init__(self,pad_idx_input=1,pad_idx_attention=0,is_test=False):\n",
    "    self.pad_idx_input=pad_idx_input\n",
    "    self.pad_idx_attention=pad_idx_attention\n",
    "    self.is_test=is_test\n",
    "\n",
    "  def __call__(self,batch):\n",
    "    input_ids=[item[0] for item in batch]\n",
    "    attention_masks=[item[1] for item in batch]\n",
    "    input_ids=pad_sequence(input_ids,batch_first=True,padding_value=self.pad_idx_input)\n",
    "    attention_masks=pad_sequence(attention_masks,batch_first=True,padding_value=self.pad_idx_attention)\n",
    "    if self.is_test:\n",
    "      return input_ids,attention_masks\n",
    "    else:\n",
    "      targets=[item[2] for item in batch]\n",
    "      return input_ids,attention_masks,torch.tensor(targets,dtype=torch.float32)\n"
   ]
  },
  {
   "cell_type": "code",
   "execution_count": 22,
   "metadata": {
    "id": "mMmKJQBSTE_M"
   },
   "outputs": [],
   "source": [
    "class Model(nn.Module):\n",
    "  def __init__(self,is_large=False,\n",
    "               hidden_size=256,\n",
    "               output_hidden_states=True,\n",
    "               multisample_dropout=False               \n",
    "               ):\n",
    "    super(Model,self).__init__()\n",
    "    if is_large is False:\n",
    "      self.bert=RobertaModel.from_pretrained('roberta-base',\n",
    "                                             output_hidden_states=output_hidden_states\n",
    "                                    )\n",
    "    else:\n",
    "      self.bert=RobertaModel.from_pretrained('roberta-large',\n",
    "                                             output_hidden_states=output_hidden_states\n",
    "      )\n",
    "    self.hidden_size=hidden_size\n",
    "    self.lstm=nn.LSTM(input_size=self.bert.config.hidden_size,\n",
    "                     hidden_size=self.hidden_size,\n",
    "                     num_layers=2,\n",
    "                     batch_first=True,\n",
    "                     bidirectional=True\n",
    "                    )\n",
    "    #self.norm=nn.LayerNorm(2*self.hidden_size)\n",
    "    self.linear=nn.Linear(4*self.hidden_size,1)\n",
    "\n",
    "  # def __init_weight(self,module):\n",
    "  #   if isinstance(module,nn.Linear):\n",
    "  #     module.weight.data.normal_(mean=0,std=self.bert.config.initializer_range)\n",
    "  #     if module.bias is not None:\n",
    "  #       module.bias.data.zero_()\n",
    "  #   elif isinstance(module,nn.LayerNorm):\n",
    "  #     module.bias.data.zero_()\n",
    "  #     module.weight.data.fill_(1.0)\n",
    "\n",
    "  # def fine_tunning(self,fine_tune=False):\n",
    "  #   for child in self.bert.children():\n",
    "  #     for param in child.parameters():\n",
    "  #       param.requires_grad=fine_tune \n",
    "\n",
    "  def forward(self,input_ids,attention_masks,token_type_ids=None):\n",
    "    robeta_output=self.bert(input_ids,attention_masks)\n",
    "    last_hidden_state=robeta_output.last_hidden_state\n",
    "    lstm_out,(hn,cn)=self.lstm(last_hidden_state)#batch_size*seq_length*hidden_size\n",
    "    lstm_mean=torch.mean(lstm_out,dim=1)\n",
    "    lstm_max,_=torch.max(lstm_out,dim=1)\n",
    "    out=torch.cat((lstm_mean,lstm_max),dim=1)    \n",
    "    return self.linear(out)"
   ]
  },
  {
   "cell_type": "code",
   "execution_count": 33,
   "metadata": {
    "id": "h08R0Gt0UPEn"
   },
   "outputs": [],
   "source": [
    "def evaluate(model,data_loader,loss_fn):\n",
    "  model.eval()\n",
    "  mse_sum=0\n",
    "  with torch.no_grad():\n",
    "    for features in data_loader:\n",
    "      input_ids,attention_mask,targets=features[0].to(DEVICE),features[1].to(DEVICE),features[2].to(DEVICE)\n",
    "      output=model(input_ids,attention_mask)\n",
    "      loss=torch.sqrt(loss_fn(output.flatten(),targets))\n",
    "      mse_sum+=loss.item()\n",
    "  return mse_sum/len(data_loader)"
   ]
  },
  {
   "cell_type": "code",
   "execution_count": 34,
   "metadata": {
    "id": "wmOe3z8dVFY9"
   },
   "outputs": [],
   "source": [
    "def predict(model,data_loader):\n",
    "  model.eval()\n",
    "  preds=[]\n",
    "  with torch.no_grad():\n",
    "    for features in data_loader:\n",
    "      input_ids,attention_mask,targets=features[0].to(DEVICE),features[1].to(DEVICE),features[2].to(DEVICE)\n",
    "      outputs=model(input_ids,attention_mask,token_type_ids)\n",
    "      preds.append(outputs.cpu().detach().numpy())\n",
    "  return np.concatenate(preds)"
   ]
  },
  {
   "cell_type": "code",
   "execution_count": 35,
   "metadata": {
    "id": "RpT7Fv4SWDkh"
   },
   "outputs": [],
   "source": [
    "def train_model(model,optimizer,scheduler,loss_fn,train_loader,val_loader,epochs):\n",
    "    for epoch in range(epochs):\n",
    "      model.train()\n",
    "      mse_train=0\n",
    "      best_mse_val=None\n",
    "      start_time=time.time()\n",
    "      for features in train_loader:\n",
    "        input_ids,attention_mask,targets=features[0].to(DEVICE),features[1].to(DEVICE),features[2].to(DEVICE)\n",
    "        outputs=model(input_ids,attention_mask)\n",
    "        loss=loss_fn(outputs.flatten(),targets)\n",
    "        optimizer.zero_grad()\n",
    "        loss.backward()\n",
    "        optimizer.step()\n",
    "        mse_train+=loss.item()\n",
    "        if scheduler:\n",
    "          scheduler.step()\n",
    "      val_mse=evaluate(model,val_loader,loss_fn)\n",
    "      print(f\"Epoch:{epoch}---Train:{mse_train/len(train_loader)}---Val:{val_mse}---Time:{time.time()-start_time}\")\n",
    "      if best_mse_val is None or val_mse<best_mse_val:\n",
    "        model_state_dict=model.state_dict()\n",
    "    return model_state_dict\n",
    "\n"
   ]
  },
  {
   "cell_type": "code",
   "execution_count": 36,
   "metadata": {
    "id": "IGM1UM4xYGTt"
   },
   "outputs": [],
   "source": [
    "# def set_random_seed(random_seed):\n",
    "#     random.seed(random_seed)\n",
    "#     np.random.seed(random_seed)\n",
    "#     os.environ[\"PYTHONHASHSEED\"] = str(random_seed)\n",
    "#     torch.manual_seed(random_seed)\n",
    "#     torch.cuda.manual_seed(random_seed)\n",
    "#     torch.cuda.manual_seed_all(random_seed)\n",
    "\n",
    "#     torch.backends.cudnn.deterministic = True"
   ]
  },
  {
   "cell_type": "code",
   "execution_count": 37,
   "metadata": {
    "id": "DTTe2NUKY2F5"
   },
   "outputs": [],
   "source": [
    "def get_loader(train_idxs,val_idxs,is_large):\n",
    "  df_train=train[train.index.isin(train_idxs)].reset_index(drop=True)\n",
    "  df_val=train[train.index.isin(val_idxs)].reset_index(drop=True)\n",
    "  if is_large:\n",
    "    train_dataset=ColeridgeInitiative(df_train,tokenizer_large)\n",
    "    val_dataset=ColeridgeInitiative(df_val,tokenizer_large)\n",
    "  else:\n",
    "    train_dataset=ColeridgeInitiative(df_train,tokenizer_base)\n",
    "    val_dataset=ColeridgeInitiative(df_val,tokenizer_base)\n",
    "\n",
    "  train_loader=DataLoader(train_dataset,batch_size=BATCH_SIZE,shuffle=True,num_workers=2,collate_fn=MyCollate())\n",
    "  val_loader=DataLoader(val_dataset,batch_size=BATCH_SIZE,shuffle=True,num_workers=2,collate_fn=MyCollate())\n",
    "  return train_loader,val_loader"
   ]
  },
  {
   "cell_type": "code",
   "execution_count": 38,
   "metadata": {
    "id": "SYL_MqWLZFbC"
   },
   "outputs": [],
   "source": [
    "def get_model(is_large,len_train_loader,epochs,lr,need_scheduler=True):\n",
    "  model=Model(is_large=is_large).to(DEVICE)\n",
    "  #optimizer=create_optimizer(model)\n",
    "  optimizer=AdamW(model.parameters(), lr=lr, betas=(0.9, 0.99), weight_decay=1e-2)\n",
    "  train_steps=len_train_loader*epochs\n",
    "  if need_scheduler:\n",
    "    scheduler=get_linear_schedule_with_warmup(\n",
    "        optimizer,\n",
    "        num_training_steps=train_steps,\n",
    "        num_warmup_steps=50\n",
    "    )\n",
    "  else:\n",
    "    scheduler=None\n",
    "  loss_fn=nn.MSELoss(reduction='mean')\n",
    "  return model,optimizer,scheduler,loss_fn"
   ]
  },
  {
   "cell_type": "code",
   "execution_count": 39,
   "metadata": {
    "id": "w0z9sQe9aFe8"
   },
   "outputs": [],
   "source": [
    "def save_checkpoint(model_state_dict,path,model_name):\n",
    "    path='/content/drive/MyDrive/Kaggle/Model/'+path\n",
    "    if os.path.exists(path) is False:\n",
    "        Path(path).mkdir(parents=True,exist_ok=True)\n",
    "\n",
    "    model=torch.save(model_state_dict,path+'/'+model_name)\n",
    "    print(\"Save model done\")"
   ]
  },
  {
   "cell_type": "code",
   "execution_count": 40,
   "metadata": {
    "id": "U3ItEfLo8Y_W"
   },
   "outputs": [],
   "source": [
    "lrs=[1e-5,2e-5,1.5e-5,1e-4,2e-4]"
   ]
  },
  {
   "cell_type": "code",
   "execution_count": 41,
   "metadata": {
    "id": "axwtBgZmXpD0"
   },
   "outputs": [],
   "source": [
    "def train_k_folds(is_large=False,epochs=10):\n",
    "  kfold=KFold(n_splits=K_FOLDS,random_state=SEED,shuffle=True)\n",
    "  for fold,(train_idxs,val_idxs) in enumerate(kfold.split(train)):\n",
    "    print('--'*10,f'TRAIN FOLD {fold}','--'*10)\n",
    "    train_loader,val_loader=get_loader(train_idxs,val_idxs,is_large)\n",
    "    model,optimizer,scheduler,loss_fn=get_model(is_large,len(train_loader),epochs,lrs[fold])\n",
    "    model_state_dict=train_model(model,optimizer,scheduler,loss_fn,train_loader,val_loader,epochs)\n",
    "    if is_large is True:\n",
    "      model_name='large'\n",
    "    else:\n",
    "      model_name='base'\n",
    "    save_checkpoint(model_state_dict,'CommonLit'+model_name,'model'+model_name+'_{}_fold{}.pth'.format(fold,epochs))\n",
    "    del model,optimizer,scheduler,loss_fn,train_loader,val_loader\n",
    "    gc.collect()\n",
    "    torch.cuda.empty_cache()"
   ]
  },
  {
   "cell_type": "code",
   "execution_count": null,
   "metadata": {
    "id": "j59gXmE-ahLV"
   },
   "outputs": [],
   "source": [
    "train_k_folds(is_large=False)"
   ]
  },
  {
   "cell_type": "code",
   "execution_count": null,
   "metadata": {},
   "outputs": [],
   "source": [
    "train_k_folds(is_large=True)"
   ]
  }
 ],
 "metadata": {
  "accelerator": "GPU",
  "colab": {
   "collapsed_sections": [],
   "name": "Untitled49 (2).ipynb",
   "provenance": []
  },
  "kernelspec": {
   "display_name": "Python 3",
   "language": "python",
   "name": "python3"
  },
  "language_info": {
   "codemirror_mode": {
    "name": "ipython",
    "version": 3
   },
   "file_extension": ".py",
   "mimetype": "text/x-python",
   "name": "python",
   "nbconvert_exporter": "python",
   "pygments_lexer": "ipython3",
   "version": "3.7.0"
  },
  "widgets": {
   "application/vnd.jupyter.widget-state+json": {
    "008963386ab5436fa34180877c33335c": {
     "model_module": "@jupyter-widgets/controls",
     "model_name": "ProgressStyleModel",
     "state": {
      "_model_module": "@jupyter-widgets/controls",
      "_model_module_version": "1.5.0",
      "_model_name": "ProgressStyleModel",
      "_view_count": null,
      "_view_module": "@jupyter-widgets/base",
      "_view_module_version": "1.2.0",
      "_view_name": "StyleView",
      "bar_color": null,
      "description_width": "initial"
     }
    },
    "0f49a008970748a287195538faa8af32": {
     "model_module": "@jupyter-widgets/controls",
     "model_name": "ProgressStyleModel",
     "state": {
      "_model_module": "@jupyter-widgets/controls",
      "_model_module_version": "1.5.0",
      "_model_name": "ProgressStyleModel",
      "_view_count": null,
      "_view_module": "@jupyter-widgets/base",
      "_view_module_version": "1.2.0",
      "_view_name": "StyleView",
      "bar_color": null,
      "description_width": "initial"
     }
    },
    "1106c09b809245b5addbf8db56204ba0": {
     "model_module": "@jupyter-widgets/controls",
     "model_name": "DescriptionStyleModel",
     "state": {
      "_model_module": "@jupyter-widgets/controls",
      "_model_module_version": "1.5.0",
      "_model_name": "DescriptionStyleModel",
      "_view_count": null,
      "_view_module": "@jupyter-widgets/base",
      "_view_module_version": "1.2.0",
      "_view_name": "StyleView",
      "description_width": ""
     }
    },
    "1d1c9e2324644266a91ebfe54f9d6f50": {
     "model_module": "@jupyter-widgets/controls",
     "model_name": "ProgressStyleModel",
     "state": {
      "_model_module": "@jupyter-widgets/controls",
      "_model_module_version": "1.5.0",
      "_model_name": "ProgressStyleModel",
      "_view_count": null,
      "_view_module": "@jupyter-widgets/base",
      "_view_module_version": "1.2.0",
      "_view_name": "StyleView",
      "bar_color": null,
      "description_width": "initial"
     }
    },
    "232b71d3592c4fcd9f2bf51299be7ba7": {
     "model_module": "@jupyter-widgets/controls",
     "model_name": "HTMLModel",
     "state": {
      "_dom_classes": [],
      "_model_module": "@jupyter-widgets/controls",
      "_model_module_version": "1.5.0",
      "_model_name": "HTMLModel",
      "_view_count": null,
      "_view_module": "@jupyter-widgets/controls",
      "_view_module_version": "1.5.0",
      "_view_name": "HTMLView",
      "description": "",
      "description_tooltip": null,
      "layout": "IPY_MODEL_f14aa799d92e43b59ae02b230e6e820b",
      "placeholder": "​",
      "style": "IPY_MODEL_6314973109164e599daf07c5bfd61fce",
      "value": " 1.36M/1.36M [00:00&lt;00:00, 6.33MB/s]"
     }
    },
    "24394414f91b4b18b5e2928e4aef7469": {
     "model_module": "@jupyter-widgets/controls",
     "model_name": "ProgressStyleModel",
     "state": {
      "_model_module": "@jupyter-widgets/controls",
      "_model_module_version": "1.5.0",
      "_model_name": "ProgressStyleModel",
      "_view_count": null,
      "_view_module": "@jupyter-widgets/base",
      "_view_module_version": "1.2.0",
      "_view_name": "StyleView",
      "bar_color": null,
      "description_width": "initial"
     }
    },
    "251efc3df9ca4684924565f3539bac5a": {
     "model_module": "@jupyter-widgets/base",
     "model_name": "LayoutModel",
     "state": {
      "_model_module": "@jupyter-widgets/base",
      "_model_module_version": "1.2.0",
      "_model_name": "LayoutModel",
      "_view_count": null,
      "_view_module": "@jupyter-widgets/base",
      "_view_module_version": "1.2.0",
      "_view_name": "LayoutView",
      "align_content": null,
      "align_items": null,
      "align_self": null,
      "border": null,
      "bottom": null,
      "display": null,
      "flex": null,
      "flex_flow": null,
      "grid_area": null,
      "grid_auto_columns": null,
      "grid_auto_flow": null,
      "grid_auto_rows": null,
      "grid_column": null,
      "grid_gap": null,
      "grid_row": null,
      "grid_template_areas": null,
      "grid_template_columns": null,
      "grid_template_rows": null,
      "height": null,
      "justify_content": null,
      "justify_items": null,
      "left": null,
      "margin": null,
      "max_height": null,
      "max_width": null,
      "min_height": null,
      "min_width": null,
      "object_fit": null,
      "object_position": null,
      "order": null,
      "overflow": null,
      "overflow_x": null,
      "overflow_y": null,
      "padding": null,
      "right": null,
      "top": null,
      "visibility": null,
      "width": null
     }
    },
    "274ce5380e1a4759aefe116e19ef80f4": {
     "model_module": "@jupyter-widgets/base",
     "model_name": "LayoutModel",
     "state": {
      "_model_module": "@jupyter-widgets/base",
      "_model_module_version": "1.2.0",
      "_model_name": "LayoutModel",
      "_view_count": null,
      "_view_module": "@jupyter-widgets/base",
      "_view_module_version": "1.2.0",
      "_view_name": "LayoutView",
      "align_content": null,
      "align_items": null,
      "align_self": null,
      "border": null,
      "bottom": null,
      "display": null,
      "flex": null,
      "flex_flow": null,
      "grid_area": null,
      "grid_auto_columns": null,
      "grid_auto_flow": null,
      "grid_auto_rows": null,
      "grid_column": null,
      "grid_gap": null,
      "grid_row": null,
      "grid_template_areas": null,
      "grid_template_columns": null,
      "grid_template_rows": null,
      "height": null,
      "justify_content": null,
      "justify_items": null,
      "left": null,
      "margin": null,
      "max_height": null,
      "max_width": null,
      "min_height": null,
      "min_width": null,
      "object_fit": null,
      "object_position": null,
      "order": null,
      "overflow": null,
      "overflow_x": null,
      "overflow_y": null,
      "padding": null,
      "right": null,
      "top": null,
      "visibility": null,
      "width": null
     }
    },
    "2a09531c37eb4382afb1d261ab9dded5": {
     "model_module": "@jupyter-widgets/base",
     "model_name": "LayoutModel",
     "state": {
      "_model_module": "@jupyter-widgets/base",
      "_model_module_version": "1.2.0",
      "_model_name": "LayoutModel",
      "_view_count": null,
      "_view_module": "@jupyter-widgets/base",
      "_view_module_version": "1.2.0",
      "_view_name": "LayoutView",
      "align_content": null,
      "align_items": null,
      "align_self": null,
      "border": null,
      "bottom": null,
      "display": null,
      "flex": null,
      "flex_flow": null,
      "grid_area": null,
      "grid_auto_columns": null,
      "grid_auto_flow": null,
      "grid_auto_rows": null,
      "grid_column": null,
      "grid_gap": null,
      "grid_row": null,
      "grid_template_areas": null,
      "grid_template_columns": null,
      "grid_template_rows": null,
      "height": null,
      "justify_content": null,
      "justify_items": null,
      "left": null,
      "margin": null,
      "max_height": null,
      "max_width": null,
      "min_height": null,
      "min_width": null,
      "object_fit": null,
      "object_position": null,
      "order": null,
      "overflow": null,
      "overflow_x": null,
      "overflow_y": null,
      "padding": null,
      "right": null,
      "top": null,
      "visibility": null,
      "width": null
     }
    },
    "2ea6a936b11f4126b12c10933253581a": {
     "model_module": "@jupyter-widgets/base",
     "model_name": "LayoutModel",
     "state": {
      "_model_module": "@jupyter-widgets/base",
      "_model_module_version": "1.2.0",
      "_model_name": "LayoutModel",
      "_view_count": null,
      "_view_module": "@jupyter-widgets/base",
      "_view_module_version": "1.2.0",
      "_view_name": "LayoutView",
      "align_content": null,
      "align_items": null,
      "align_self": null,
      "border": null,
      "bottom": null,
      "display": null,
      "flex": null,
      "flex_flow": null,
      "grid_area": null,
      "grid_auto_columns": null,
      "grid_auto_flow": null,
      "grid_auto_rows": null,
      "grid_column": null,
      "grid_gap": null,
      "grid_row": null,
      "grid_template_areas": null,
      "grid_template_columns": null,
      "grid_template_rows": null,
      "height": null,
      "justify_content": null,
      "justify_items": null,
      "left": null,
      "margin": null,
      "max_height": null,
      "max_width": null,
      "min_height": null,
      "min_width": null,
      "object_fit": null,
      "object_position": null,
      "order": null,
      "overflow": null,
      "overflow_x": null,
      "overflow_y": null,
      "padding": null,
      "right": null,
      "top": null,
      "visibility": null,
      "width": null
     }
    },
    "302de3f753234e8fab34def8b757c4c1": {
     "model_module": "@jupyter-widgets/base",
     "model_name": "LayoutModel",
     "state": {
      "_model_module": "@jupyter-widgets/base",
      "_model_module_version": "1.2.0",
      "_model_name": "LayoutModel",
      "_view_count": null,
      "_view_module": "@jupyter-widgets/base",
      "_view_module_version": "1.2.0",
      "_view_name": "LayoutView",
      "align_content": null,
      "align_items": null,
      "align_self": null,
      "border": null,
      "bottom": null,
      "display": null,
      "flex": null,
      "flex_flow": null,
      "grid_area": null,
      "grid_auto_columns": null,
      "grid_auto_flow": null,
      "grid_auto_rows": null,
      "grid_column": null,
      "grid_gap": null,
      "grid_row": null,
      "grid_template_areas": null,
      "grid_template_columns": null,
      "grid_template_rows": null,
      "height": null,
      "justify_content": null,
      "justify_items": null,
      "left": null,
      "margin": null,
      "max_height": null,
      "max_width": null,
      "min_height": null,
      "min_width": null,
      "object_fit": null,
      "object_position": null,
      "order": null,
      "overflow": null,
      "overflow_x": null,
      "overflow_y": null,
      "padding": null,
      "right": null,
      "top": null,
      "visibility": null,
      "width": null
     }
    },
    "30e1bae48b8441d49b2f964cbf6db527": {
     "model_module": "@jupyter-widgets/base",
     "model_name": "LayoutModel",
     "state": {
      "_model_module": "@jupyter-widgets/base",
      "_model_module_version": "1.2.0",
      "_model_name": "LayoutModel",
      "_view_count": null,
      "_view_module": "@jupyter-widgets/base",
      "_view_module_version": "1.2.0",
      "_view_name": "LayoutView",
      "align_content": null,
      "align_items": null,
      "align_self": null,
      "border": null,
      "bottom": null,
      "display": null,
      "flex": null,
      "flex_flow": null,
      "grid_area": null,
      "grid_auto_columns": null,
      "grid_auto_flow": null,
      "grid_auto_rows": null,
      "grid_column": null,
      "grid_gap": null,
      "grid_row": null,
      "grid_template_areas": null,
      "grid_template_columns": null,
      "grid_template_rows": null,
      "height": null,
      "justify_content": null,
      "justify_items": null,
      "left": null,
      "margin": null,
      "max_height": null,
      "max_width": null,
      "min_height": null,
      "min_width": null,
      "object_fit": null,
      "object_position": null,
      "order": null,
      "overflow": null,
      "overflow_x": null,
      "overflow_y": null,
      "padding": null,
      "right": null,
      "top": null,
      "visibility": null,
      "width": null
     }
    },
    "34a239a691fe4c3fa31da027978ade95": {
     "model_module": "@jupyter-widgets/controls",
     "model_name": "HBoxModel",
     "state": {
      "_dom_classes": [],
      "_model_module": "@jupyter-widgets/controls",
      "_model_module_version": "1.5.0",
      "_model_name": "HBoxModel",
      "_view_count": null,
      "_view_module": "@jupyter-widgets/controls",
      "_view_module_version": "1.5.0",
      "_view_name": "HBoxView",
      "box_style": "",
      "children": [
       "IPY_MODEL_6f6ab148cc3e4dce84b852af4dbfbfd7",
       "IPY_MODEL_665611277014450490784723c8f147e5"
      ],
      "layout": "IPY_MODEL_2ea6a936b11f4126b12c10933253581a"
     }
    },
    "4ef7476c95784172ba6773a3413136fb": {
     "model_module": "@jupyter-widgets/base",
     "model_name": "LayoutModel",
     "state": {
      "_model_module": "@jupyter-widgets/base",
      "_model_module_version": "1.2.0",
      "_model_name": "LayoutModel",
      "_view_count": null,
      "_view_module": "@jupyter-widgets/base",
      "_view_module_version": "1.2.0",
      "_view_name": "LayoutView",
      "align_content": null,
      "align_items": null,
      "align_self": null,
      "border": null,
      "bottom": null,
      "display": null,
      "flex": null,
      "flex_flow": null,
      "grid_area": null,
      "grid_auto_columns": null,
      "grid_auto_flow": null,
      "grid_auto_rows": null,
      "grid_column": null,
      "grid_gap": null,
      "grid_row": null,
      "grid_template_areas": null,
      "grid_template_columns": null,
      "grid_template_rows": null,
      "height": null,
      "justify_content": null,
      "justify_items": null,
      "left": null,
      "margin": null,
      "max_height": null,
      "max_width": null,
      "min_height": null,
      "min_width": null,
      "object_fit": null,
      "object_position": null,
      "order": null,
      "overflow": null,
      "overflow_x": null,
      "overflow_y": null,
      "padding": null,
      "right": null,
      "top": null,
      "visibility": null,
      "width": null
     }
    },
    "5399ec1eadd446e4b2d740997fbd3a96": {
     "model_module": "@jupyter-widgets/controls",
     "model_name": "DescriptionStyleModel",
     "state": {
      "_model_module": "@jupyter-widgets/controls",
      "_model_module_version": "1.5.0",
      "_model_name": "DescriptionStyleModel",
      "_view_count": null,
      "_view_module": "@jupyter-widgets/base",
      "_view_module_version": "1.2.0",
      "_view_name": "StyleView",
      "description_width": ""
     }
    },
    "6314973109164e599daf07c5bfd61fce": {
     "model_module": "@jupyter-widgets/controls",
     "model_name": "DescriptionStyleModel",
     "state": {
      "_model_module": "@jupyter-widgets/controls",
      "_model_module_version": "1.5.0",
      "_model_name": "DescriptionStyleModel",
      "_view_count": null,
      "_view_module": "@jupyter-widgets/base",
      "_view_module_version": "1.2.0",
      "_view_name": "StyleView",
      "description_width": ""
     }
    },
    "6354f98c5c7f4feca71412d5f8c44883": {
     "model_module": "@jupyter-widgets/controls",
     "model_name": "FloatProgressModel",
     "state": {
      "_dom_classes": [],
      "_model_module": "@jupyter-widgets/controls",
      "_model_module_version": "1.5.0",
      "_model_name": "FloatProgressModel",
      "_view_count": null,
      "_view_module": "@jupyter-widgets/controls",
      "_view_module_version": "1.5.0",
      "_view_name": "ProgressView",
      "bar_style": "success",
      "description": "Downloading: 100%",
      "description_tooltip": null,
      "layout": "IPY_MODEL_30e1bae48b8441d49b2f964cbf6db527",
      "max": 1355863,
      "min": 0,
      "orientation": "horizontal",
      "style": "IPY_MODEL_008963386ab5436fa34180877c33335c",
      "value": 1355863
     }
    },
    "63f63a1946704d4288bc11b4e51e119d": {
     "model_module": "@jupyter-widgets/controls",
     "model_name": "FloatProgressModel",
     "state": {
      "_dom_classes": [],
      "_model_module": "@jupyter-widgets/controls",
      "_model_module_version": "1.5.0",
      "_model_name": "FloatProgressModel",
      "_view_count": null,
      "_view_module": "@jupyter-widgets/controls",
      "_view_module_version": "1.5.0",
      "_view_name": "ProgressView",
      "bar_style": "success",
      "description": "Downloading: 100%",
      "description_tooltip": null,
      "layout": "IPY_MODEL_8e79c4e07580422082baed764527903a",
      "max": 898823,
      "min": 0,
      "orientation": "horizontal",
      "style": "IPY_MODEL_88a944d4852e443f9ef7cac5a4f67e2d",
      "value": 898823
     }
    },
    "65ceab78c24e4bde811c16ea8f44a95b": {
     "model_module": "@jupyter-widgets/controls",
     "model_name": "HTMLModel",
     "state": {
      "_dom_classes": [],
      "_model_module": "@jupyter-widgets/controls",
      "_model_module_version": "1.5.0",
      "_model_name": "HTMLModel",
      "_view_count": null,
      "_view_module": "@jupyter-widgets/controls",
      "_view_module_version": "1.5.0",
      "_view_name": "HTMLView",
      "description": "",
      "description_tooltip": null,
      "layout": "IPY_MODEL_4ef7476c95784172ba6773a3413136fb",
      "placeholder": "​",
      "style": "IPY_MODEL_ecb2f36d557243d894d8f0cde3995168",
      "value": " 899k/899k [00:01&lt;00:00, 878kB/s]"
     }
    },
    "665611277014450490784723c8f147e5": {
     "model_module": "@jupyter-widgets/controls",
     "model_name": "HTMLModel",
     "state": {
      "_dom_classes": [],
      "_model_module": "@jupyter-widgets/controls",
      "_model_module_version": "1.5.0",
      "_model_name": "HTMLModel",
      "_view_count": null,
      "_view_module": "@jupyter-widgets/controls",
      "_view_module_version": "1.5.0",
      "_view_name": "HTMLView",
      "description": "",
      "description_tooltip": null,
      "layout": "IPY_MODEL_d5fa033eb5634f60b325ca9728d4d965",
      "placeholder": "​",
      "style": "IPY_MODEL_1106c09b809245b5addbf8db56204ba0",
      "value": " 456k/456k [00:00&lt;00:00, 615kB/s]"
     }
    },
    "6f6ab148cc3e4dce84b852af4dbfbfd7": {
     "model_module": "@jupyter-widgets/controls",
     "model_name": "FloatProgressModel",
     "state": {
      "_dom_classes": [],
      "_model_module": "@jupyter-widgets/controls",
      "_model_module_version": "1.5.0",
      "_model_name": "FloatProgressModel",
      "_view_count": null,
      "_view_module": "@jupyter-widgets/controls",
      "_view_module_version": "1.5.0",
      "_view_name": "ProgressView",
      "bar_style": "success",
      "description": "Downloading: 100%",
      "description_tooltip": null,
      "layout": "IPY_MODEL_251efc3df9ca4684924565f3539bac5a",
      "max": 456318,
      "min": 0,
      "orientation": "horizontal",
      "style": "IPY_MODEL_0f49a008970748a287195538faa8af32",
      "value": 456318
     }
    },
    "7567cb6d68964661b2a5cebfe7202914": {
     "model_module": "@jupyter-widgets/controls",
     "model_name": "HTMLModel",
     "state": {
      "_dom_classes": [],
      "_model_module": "@jupyter-widgets/controls",
      "_model_module_version": "1.5.0",
      "_model_name": "HTMLModel",
      "_view_count": null,
      "_view_module": "@jupyter-widgets/controls",
      "_view_module_version": "1.5.0",
      "_view_name": "HTMLView",
      "description": "",
      "description_tooltip": null,
      "layout": "IPY_MODEL_e96766d2617d40c688be429d5d47d229",
      "placeholder": "​",
      "style": "IPY_MODEL_5399ec1eadd446e4b2d740997fbd3a96",
      "value": " 899k/899k [00:00&lt;00:00, 928kB/s]"
     }
    },
    "769e18b90ff64c62aa006653423281fd": {
     "model_module": "@jupyter-widgets/base",
     "model_name": "LayoutModel",
     "state": {
      "_model_module": "@jupyter-widgets/base",
      "_model_module_version": "1.2.0",
      "_model_name": "LayoutModel",
      "_view_count": null,
      "_view_module": "@jupyter-widgets/base",
      "_view_module_version": "1.2.0",
      "_view_name": "LayoutView",
      "align_content": null,
      "align_items": null,
      "align_self": null,
      "border": null,
      "bottom": null,
      "display": null,
      "flex": null,
      "flex_flow": null,
      "grid_area": null,
      "grid_auto_columns": null,
      "grid_auto_flow": null,
      "grid_auto_rows": null,
      "grid_column": null,
      "grid_gap": null,
      "grid_row": null,
      "grid_template_areas": null,
      "grid_template_columns": null,
      "grid_template_rows": null,
      "height": null,
      "justify_content": null,
      "justify_items": null,
      "left": null,
      "margin": null,
      "max_height": null,
      "max_width": null,
      "min_height": null,
      "min_width": null,
      "object_fit": null,
      "object_position": null,
      "order": null,
      "overflow": null,
      "overflow_x": null,
      "overflow_y": null,
      "padding": null,
      "right": null,
      "top": null,
      "visibility": null,
      "width": null
     }
    },
    "7ea8e11eacaa42ba9456c1e76375513b": {
     "model_module": "@jupyter-widgets/controls",
     "model_name": "FloatProgressModel",
     "state": {
      "_dom_classes": [],
      "_model_module": "@jupyter-widgets/controls",
      "_model_module_version": "1.5.0",
      "_model_name": "FloatProgressModel",
      "_view_count": null,
      "_view_module": "@jupyter-widgets/controls",
      "_view_module_version": "1.5.0",
      "_view_name": "ProgressView",
      "bar_style": "success",
      "description": "Downloading: 100%",
      "description_tooltip": null,
      "layout": "IPY_MODEL_302de3f753234e8fab34def8b757c4c1",
      "max": 456318,
      "min": 0,
      "orientation": "horizontal",
      "style": "IPY_MODEL_24394414f91b4b18b5e2928e4aef7469",
      "value": 456318
     }
    },
    "83c2e5d2b3114a619f1253296674b0a2": {
     "model_module": "@jupyter-widgets/controls",
     "model_name": "ProgressStyleModel",
     "state": {
      "_model_module": "@jupyter-widgets/controls",
      "_model_module_version": "1.5.0",
      "_model_name": "ProgressStyleModel",
      "_view_count": null,
      "_view_module": "@jupyter-widgets/base",
      "_view_module_version": "1.2.0",
      "_view_name": "StyleView",
      "bar_color": null,
      "description_width": "initial"
     }
    },
    "88a944d4852e443f9ef7cac5a4f67e2d": {
     "model_module": "@jupyter-widgets/controls",
     "model_name": "ProgressStyleModel",
     "state": {
      "_model_module": "@jupyter-widgets/controls",
      "_model_module_version": "1.5.0",
      "_model_name": "ProgressStyleModel",
      "_view_count": null,
      "_view_module": "@jupyter-widgets/base",
      "_view_module_version": "1.2.0",
      "_view_name": "StyleView",
      "bar_color": null,
      "description_width": "initial"
     }
    },
    "8d5e23fd53df478abbef6d5166bd2ee2": {
     "model_module": "@jupyter-widgets/base",
     "model_name": "LayoutModel",
     "state": {
      "_model_module": "@jupyter-widgets/base",
      "_model_module_version": "1.2.0",
      "_model_name": "LayoutModel",
      "_view_count": null,
      "_view_module": "@jupyter-widgets/base",
      "_view_module_version": "1.2.0",
      "_view_name": "LayoutView",
      "align_content": null,
      "align_items": null,
      "align_self": null,
      "border": null,
      "bottom": null,
      "display": null,
      "flex": null,
      "flex_flow": null,
      "grid_area": null,
      "grid_auto_columns": null,
      "grid_auto_flow": null,
      "grid_auto_rows": null,
      "grid_column": null,
      "grid_gap": null,
      "grid_row": null,
      "grid_template_areas": null,
      "grid_template_columns": null,
      "grid_template_rows": null,
      "height": null,
      "justify_content": null,
      "justify_items": null,
      "left": null,
      "margin": null,
      "max_height": null,
      "max_width": null,
      "min_height": null,
      "min_width": null,
      "object_fit": null,
      "object_position": null,
      "order": null,
      "overflow": null,
      "overflow_x": null,
      "overflow_y": null,
      "padding": null,
      "right": null,
      "top": null,
      "visibility": null,
      "width": null
     }
    },
    "8e79c4e07580422082baed764527903a": {
     "model_module": "@jupyter-widgets/base",
     "model_name": "LayoutModel",
     "state": {
      "_model_module": "@jupyter-widgets/base",
      "_model_module_version": "1.2.0",
      "_model_name": "LayoutModel",
      "_view_count": null,
      "_view_module": "@jupyter-widgets/base",
      "_view_module_version": "1.2.0",
      "_view_name": "LayoutView",
      "align_content": null,
      "align_items": null,
      "align_self": null,
      "border": null,
      "bottom": null,
      "display": null,
      "flex": null,
      "flex_flow": null,
      "grid_area": null,
      "grid_auto_columns": null,
      "grid_auto_flow": null,
      "grid_auto_rows": null,
      "grid_column": null,
      "grid_gap": null,
      "grid_row": null,
      "grid_template_areas": null,
      "grid_template_columns": null,
      "grid_template_rows": null,
      "height": null,
      "justify_content": null,
      "justify_items": null,
      "left": null,
      "margin": null,
      "max_height": null,
      "max_width": null,
      "min_height": null,
      "min_width": null,
      "object_fit": null,
      "object_position": null,
      "order": null,
      "overflow": null,
      "overflow_x": null,
      "overflow_y": null,
      "padding": null,
      "right": null,
      "top": null,
      "visibility": null,
      "width": null
     }
    },
    "90625e4fda874247a373ea62e8322311": {
     "model_module": "@jupyter-widgets/controls",
     "model_name": "HBoxModel",
     "state": {
      "_dom_classes": [],
      "_model_module": "@jupyter-widgets/controls",
      "_model_module_version": "1.5.0",
      "_model_name": "HBoxModel",
      "_view_count": null,
      "_view_module": "@jupyter-widgets/controls",
      "_view_module_version": "1.5.0",
      "_view_name": "HBoxView",
      "box_style": "",
      "children": [
       "IPY_MODEL_63f63a1946704d4288bc11b4e51e119d",
       "IPY_MODEL_65ceab78c24e4bde811c16ea8f44a95b"
      ],
      "layout": "IPY_MODEL_a31937841f9d465688174387169059ee"
     }
    },
    "96f66224fede433f82ea4a68e8947d5b": {
     "model_module": "@jupyter-widgets/base",
     "model_name": "LayoutModel",
     "state": {
      "_model_module": "@jupyter-widgets/base",
      "_model_module_version": "1.2.0",
      "_model_name": "LayoutModel",
      "_view_count": null,
      "_view_module": "@jupyter-widgets/base",
      "_view_module_version": "1.2.0",
      "_view_name": "LayoutView",
      "align_content": null,
      "align_items": null,
      "align_self": null,
      "border": null,
      "bottom": null,
      "display": null,
      "flex": null,
      "flex_flow": null,
      "grid_area": null,
      "grid_auto_columns": null,
      "grid_auto_flow": null,
      "grid_auto_rows": null,
      "grid_column": null,
      "grid_gap": null,
      "grid_row": null,
      "grid_template_areas": null,
      "grid_template_columns": null,
      "grid_template_rows": null,
      "height": null,
      "justify_content": null,
      "justify_items": null,
      "left": null,
      "margin": null,
      "max_height": null,
      "max_width": null,
      "min_height": null,
      "min_width": null,
      "object_fit": null,
      "object_position": null,
      "order": null,
      "overflow": null,
      "overflow_x": null,
      "overflow_y": null,
      "padding": null,
      "right": null,
      "top": null,
      "visibility": null,
      "width": null
     }
    },
    "a1eadfa1eb0f40f4bca074a37f3e3068": {
     "model_module": "@jupyter-widgets/controls",
     "model_name": "HBoxModel",
     "state": {
      "_dom_classes": [],
      "_model_module": "@jupyter-widgets/controls",
      "_model_module_version": "1.5.0",
      "_model_name": "HBoxModel",
      "_view_count": null,
      "_view_module": "@jupyter-widgets/controls",
      "_view_module_version": "1.5.0",
      "_view_name": "HBoxView",
      "box_style": "",
      "children": [
       "IPY_MODEL_ff6be447a8ab4058b4bbd4b3a05d571c",
       "IPY_MODEL_7567cb6d68964661b2a5cebfe7202914"
      ],
      "layout": "IPY_MODEL_e051e27f80844ef4be8d49a6fa1be23b"
     }
    },
    "a31937841f9d465688174387169059ee": {
     "model_module": "@jupyter-widgets/base",
     "model_name": "LayoutModel",
     "state": {
      "_model_module": "@jupyter-widgets/base",
      "_model_module_version": "1.2.0",
      "_model_name": "LayoutModel",
      "_view_count": null,
      "_view_module": "@jupyter-widgets/base",
      "_view_module_version": "1.2.0",
      "_view_name": "LayoutView",
      "align_content": null,
      "align_items": null,
      "align_self": null,
      "border": null,
      "bottom": null,
      "display": null,
      "flex": null,
      "flex_flow": null,
      "grid_area": null,
      "grid_auto_columns": null,
      "grid_auto_flow": null,
      "grid_auto_rows": null,
      "grid_column": null,
      "grid_gap": null,
      "grid_row": null,
      "grid_template_areas": null,
      "grid_template_columns": null,
      "grid_template_rows": null,
      "height": null,
      "justify_content": null,
      "justify_items": null,
      "left": null,
      "margin": null,
      "max_height": null,
      "max_width": null,
      "min_height": null,
      "min_width": null,
      "object_fit": null,
      "object_position": null,
      "order": null,
      "overflow": null,
      "overflow_x": null,
      "overflow_y": null,
      "padding": null,
      "right": null,
      "top": null,
      "visibility": null,
      "width": null
     }
    },
    "aa3f203dd2694ac1b99035eb6025b22b": {
     "model_module": "@jupyter-widgets/controls",
     "model_name": "DescriptionStyleModel",
     "state": {
      "_model_module": "@jupyter-widgets/controls",
      "_model_module_version": "1.5.0",
      "_model_name": "DescriptionStyleModel",
      "_view_count": null,
      "_view_module": "@jupyter-widgets/base",
      "_view_module_version": "1.2.0",
      "_view_name": "StyleView",
      "description_width": ""
     }
    },
    "aa490263e42e4d3cb6370b827ac9119b": {
     "model_module": "@jupyter-widgets/controls",
     "model_name": "HBoxModel",
     "state": {
      "_dom_classes": [],
      "_model_module": "@jupyter-widgets/controls",
      "_model_module_version": "1.5.0",
      "_model_name": "HBoxModel",
      "_view_count": null,
      "_view_module": "@jupyter-widgets/controls",
      "_view_module_version": "1.5.0",
      "_view_name": "HBoxView",
      "box_style": "",
      "children": [
       "IPY_MODEL_6354f98c5c7f4feca71412d5f8c44883",
       "IPY_MODEL_232b71d3592c4fcd9f2bf51299be7ba7"
      ],
      "layout": "IPY_MODEL_274ce5380e1a4759aefe116e19ef80f4"
     }
    },
    "ac2bb01f92cf4bc780151b07eeb9bf7e": {
     "model_module": "@jupyter-widgets/base",
     "model_name": "LayoutModel",
     "state": {
      "_model_module": "@jupyter-widgets/base",
      "_model_module_version": "1.2.0",
      "_model_name": "LayoutModel",
      "_view_count": null,
      "_view_module": "@jupyter-widgets/base",
      "_view_module_version": "1.2.0",
      "_view_name": "LayoutView",
      "align_content": null,
      "align_items": null,
      "align_self": null,
      "border": null,
      "bottom": null,
      "display": null,
      "flex": null,
      "flex_flow": null,
      "grid_area": null,
      "grid_auto_columns": null,
      "grid_auto_flow": null,
      "grid_auto_rows": null,
      "grid_column": null,
      "grid_gap": null,
      "grid_row": null,
      "grid_template_areas": null,
      "grid_template_columns": null,
      "grid_template_rows": null,
      "height": null,
      "justify_content": null,
      "justify_items": null,
      "left": null,
      "margin": null,
      "max_height": null,
      "max_width": null,
      "min_height": null,
      "min_width": null,
      "object_fit": null,
      "object_position": null,
      "order": null,
      "overflow": null,
      "overflow_x": null,
      "overflow_y": null,
      "padding": null,
      "right": null,
      "top": null,
      "visibility": null,
      "width": null
     }
    },
    "b1aa86f85dab43a79a39ae7ce5710864": {
     "model_module": "@jupyter-widgets/controls",
     "model_name": "HBoxModel",
     "state": {
      "_dom_classes": [],
      "_model_module": "@jupyter-widgets/controls",
      "_model_module_version": "1.5.0",
      "_model_name": "HBoxModel",
      "_view_count": null,
      "_view_module": "@jupyter-widgets/controls",
      "_view_module_version": "1.5.0",
      "_view_name": "HBoxView",
      "box_style": "",
      "children": [
       "IPY_MODEL_7ea8e11eacaa42ba9456c1e76375513b",
       "IPY_MODEL_b66b48012c254accb4b9d96ffaa541ec"
      ],
      "layout": "IPY_MODEL_96f66224fede433f82ea4a68e8947d5b"
     }
    },
    "b54d1d918e04400382f39896a00480fd": {
     "model_module": "@jupyter-widgets/controls",
     "model_name": "HTMLModel",
     "state": {
      "_dom_classes": [],
      "_model_module": "@jupyter-widgets/controls",
      "_model_module_version": "1.5.0",
      "_model_name": "HTMLModel",
      "_view_count": null,
      "_view_module": "@jupyter-widgets/controls",
      "_view_module_version": "1.5.0",
      "_view_name": "HTMLView",
      "description": "",
      "description_tooltip": null,
      "layout": "IPY_MODEL_8d5e23fd53df478abbef6d5166bd2ee2",
      "placeholder": "​",
      "style": "IPY_MODEL_aa3f203dd2694ac1b99035eb6025b22b",
      "value": " 1.36M/1.36M [00:00&lt;00:00, 7.17MB/s]"
     }
    },
    "b66b48012c254accb4b9d96ffaa541ec": {
     "model_module": "@jupyter-widgets/controls",
     "model_name": "HTMLModel",
     "state": {
      "_dom_classes": [],
      "_model_module": "@jupyter-widgets/controls",
      "_model_module_version": "1.5.0",
      "_model_name": "HTMLModel",
      "_view_count": null,
      "_view_module": "@jupyter-widgets/controls",
      "_view_module_version": "1.5.0",
      "_view_name": "HTMLView",
      "description": "",
      "description_tooltip": null,
      "layout": "IPY_MODEL_ac2bb01f92cf4bc780151b07eeb9bf7e",
      "placeholder": "​",
      "style": "IPY_MODEL_d5f5e42e42f54adfae0e039ca25d91d4",
      "value": " 456k/456k [00:00&lt;00:00, 909kB/s]"
     }
    },
    "ce317301989140d9ba575e2db85c525b": {
     "model_module": "@jupyter-widgets/controls",
     "model_name": "FloatProgressModel",
     "state": {
      "_dom_classes": [],
      "_model_module": "@jupyter-widgets/controls",
      "_model_module_version": "1.5.0",
      "_model_name": "FloatProgressModel",
      "_view_count": null,
      "_view_module": "@jupyter-widgets/controls",
      "_view_module_version": "1.5.0",
      "_view_name": "ProgressView",
      "bar_style": "success",
      "description": "Downloading: 100%",
      "description_tooltip": null,
      "layout": "IPY_MODEL_2a09531c37eb4382afb1d261ab9dded5",
      "max": 1355863,
      "min": 0,
      "orientation": "horizontal",
      "style": "IPY_MODEL_83c2e5d2b3114a619f1253296674b0a2",
      "value": 1355863
     }
    },
    "d5f5e42e42f54adfae0e039ca25d91d4": {
     "model_module": "@jupyter-widgets/controls",
     "model_name": "DescriptionStyleModel",
     "state": {
      "_model_module": "@jupyter-widgets/controls",
      "_model_module_version": "1.5.0",
      "_model_name": "DescriptionStyleModel",
      "_view_count": null,
      "_view_module": "@jupyter-widgets/base",
      "_view_module_version": "1.2.0",
      "_view_name": "StyleView",
      "description_width": ""
     }
    },
    "d5fa033eb5634f60b325ca9728d4d965": {
     "model_module": "@jupyter-widgets/base",
     "model_name": "LayoutModel",
     "state": {
      "_model_module": "@jupyter-widgets/base",
      "_model_module_version": "1.2.0",
      "_model_name": "LayoutModel",
      "_view_count": null,
      "_view_module": "@jupyter-widgets/base",
      "_view_module_version": "1.2.0",
      "_view_name": "LayoutView",
      "align_content": null,
      "align_items": null,
      "align_self": null,
      "border": null,
      "bottom": null,
      "display": null,
      "flex": null,
      "flex_flow": null,
      "grid_area": null,
      "grid_auto_columns": null,
      "grid_auto_flow": null,
      "grid_auto_rows": null,
      "grid_column": null,
      "grid_gap": null,
      "grid_row": null,
      "grid_template_areas": null,
      "grid_template_columns": null,
      "grid_template_rows": null,
      "height": null,
      "justify_content": null,
      "justify_items": null,
      "left": null,
      "margin": null,
      "max_height": null,
      "max_width": null,
      "min_height": null,
      "min_width": null,
      "object_fit": null,
      "object_position": null,
      "order": null,
      "overflow": null,
      "overflow_x": null,
      "overflow_y": null,
      "padding": null,
      "right": null,
      "top": null,
      "visibility": null,
      "width": null
     }
    },
    "e051e27f80844ef4be8d49a6fa1be23b": {
     "model_module": "@jupyter-widgets/base",
     "model_name": "LayoutModel",
     "state": {
      "_model_module": "@jupyter-widgets/base",
      "_model_module_version": "1.2.0",
      "_model_name": "LayoutModel",
      "_view_count": null,
      "_view_module": "@jupyter-widgets/base",
      "_view_module_version": "1.2.0",
      "_view_name": "LayoutView",
      "align_content": null,
      "align_items": null,
      "align_self": null,
      "border": null,
      "bottom": null,
      "display": null,
      "flex": null,
      "flex_flow": null,
      "grid_area": null,
      "grid_auto_columns": null,
      "grid_auto_flow": null,
      "grid_auto_rows": null,
      "grid_column": null,
      "grid_gap": null,
      "grid_row": null,
      "grid_template_areas": null,
      "grid_template_columns": null,
      "grid_template_rows": null,
      "height": null,
      "justify_content": null,
      "justify_items": null,
      "left": null,
      "margin": null,
      "max_height": null,
      "max_width": null,
      "min_height": null,
      "min_width": null,
      "object_fit": null,
      "object_position": null,
      "order": null,
      "overflow": null,
      "overflow_x": null,
      "overflow_y": null,
      "padding": null,
      "right": null,
      "top": null,
      "visibility": null,
      "width": null
     }
    },
    "e05717b0d88144299e825a38a6d5bd23": {
     "model_module": "@jupyter-widgets/base",
     "model_name": "LayoutModel",
     "state": {
      "_model_module": "@jupyter-widgets/base",
      "_model_module_version": "1.2.0",
      "_model_name": "LayoutModel",
      "_view_count": null,
      "_view_module": "@jupyter-widgets/base",
      "_view_module_version": "1.2.0",
      "_view_name": "LayoutView",
      "align_content": null,
      "align_items": null,
      "align_self": null,
      "border": null,
      "bottom": null,
      "display": null,
      "flex": null,
      "flex_flow": null,
      "grid_area": null,
      "grid_auto_columns": null,
      "grid_auto_flow": null,
      "grid_auto_rows": null,
      "grid_column": null,
      "grid_gap": null,
      "grid_row": null,
      "grid_template_areas": null,
      "grid_template_columns": null,
      "grid_template_rows": null,
      "height": null,
      "justify_content": null,
      "justify_items": null,
      "left": null,
      "margin": null,
      "max_height": null,
      "max_width": null,
      "min_height": null,
      "min_width": null,
      "object_fit": null,
      "object_position": null,
      "order": null,
      "overflow": null,
      "overflow_x": null,
      "overflow_y": null,
      "padding": null,
      "right": null,
      "top": null,
      "visibility": null,
      "width": null
     }
    },
    "e96766d2617d40c688be429d5d47d229": {
     "model_module": "@jupyter-widgets/base",
     "model_name": "LayoutModel",
     "state": {
      "_model_module": "@jupyter-widgets/base",
      "_model_module_version": "1.2.0",
      "_model_name": "LayoutModel",
      "_view_count": null,
      "_view_module": "@jupyter-widgets/base",
      "_view_module_version": "1.2.0",
      "_view_name": "LayoutView",
      "align_content": null,
      "align_items": null,
      "align_self": null,
      "border": null,
      "bottom": null,
      "display": null,
      "flex": null,
      "flex_flow": null,
      "grid_area": null,
      "grid_auto_columns": null,
      "grid_auto_flow": null,
      "grid_auto_rows": null,
      "grid_column": null,
      "grid_gap": null,
      "grid_row": null,
      "grid_template_areas": null,
      "grid_template_columns": null,
      "grid_template_rows": null,
      "height": null,
      "justify_content": null,
      "justify_items": null,
      "left": null,
      "margin": null,
      "max_height": null,
      "max_width": null,
      "min_height": null,
      "min_width": null,
      "object_fit": null,
      "object_position": null,
      "order": null,
      "overflow": null,
      "overflow_x": null,
      "overflow_y": null,
      "padding": null,
      "right": null,
      "top": null,
      "visibility": null,
      "width": null
     }
    },
    "ecb2f36d557243d894d8f0cde3995168": {
     "model_module": "@jupyter-widgets/controls",
     "model_name": "DescriptionStyleModel",
     "state": {
      "_model_module": "@jupyter-widgets/controls",
      "_model_module_version": "1.5.0",
      "_model_name": "DescriptionStyleModel",
      "_view_count": null,
      "_view_module": "@jupyter-widgets/base",
      "_view_module_version": "1.2.0",
      "_view_name": "StyleView",
      "description_width": ""
     }
    },
    "f14aa799d92e43b59ae02b230e6e820b": {
     "model_module": "@jupyter-widgets/base",
     "model_name": "LayoutModel",
     "state": {
      "_model_module": "@jupyter-widgets/base",
      "_model_module_version": "1.2.0",
      "_model_name": "LayoutModel",
      "_view_count": null,
      "_view_module": "@jupyter-widgets/base",
      "_view_module_version": "1.2.0",
      "_view_name": "LayoutView",
      "align_content": null,
      "align_items": null,
      "align_self": null,
      "border": null,
      "bottom": null,
      "display": null,
      "flex": null,
      "flex_flow": null,
      "grid_area": null,
      "grid_auto_columns": null,
      "grid_auto_flow": null,
      "grid_auto_rows": null,
      "grid_column": null,
      "grid_gap": null,
      "grid_row": null,
      "grid_template_areas": null,
      "grid_template_columns": null,
      "grid_template_rows": null,
      "height": null,
      "justify_content": null,
      "justify_items": null,
      "left": null,
      "margin": null,
      "max_height": null,
      "max_width": null,
      "min_height": null,
      "min_width": null,
      "object_fit": null,
      "object_position": null,
      "order": null,
      "overflow": null,
      "overflow_x": null,
      "overflow_y": null,
      "padding": null,
      "right": null,
      "top": null,
      "visibility": null,
      "width": null
     }
    },
    "fea53606bdc54290bbf70caa58318908": {
     "model_module": "@jupyter-widgets/controls",
     "model_name": "HBoxModel",
     "state": {
      "_dom_classes": [],
      "_model_module": "@jupyter-widgets/controls",
      "_model_module_version": "1.5.0",
      "_model_name": "HBoxModel",
      "_view_count": null,
      "_view_module": "@jupyter-widgets/controls",
      "_view_module_version": "1.5.0",
      "_view_name": "HBoxView",
      "box_style": "",
      "children": [
       "IPY_MODEL_ce317301989140d9ba575e2db85c525b",
       "IPY_MODEL_b54d1d918e04400382f39896a00480fd"
      ],
      "layout": "IPY_MODEL_e05717b0d88144299e825a38a6d5bd23"
     }
    },
    "ff6be447a8ab4058b4bbd4b3a05d571c": {
     "model_module": "@jupyter-widgets/controls",
     "model_name": "FloatProgressModel",
     "state": {
      "_dom_classes": [],
      "_model_module": "@jupyter-widgets/controls",
      "_model_module_version": "1.5.0",
      "_model_name": "FloatProgressModel",
      "_view_count": null,
      "_view_module": "@jupyter-widgets/controls",
      "_view_module_version": "1.5.0",
      "_view_name": "ProgressView",
      "bar_style": "success",
      "description": "Downloading: 100%",
      "description_tooltip": null,
      "layout": "IPY_MODEL_769e18b90ff64c62aa006653423281fd",
      "max": 898823,
      "min": 0,
      "orientation": "horizontal",
      "style": "IPY_MODEL_1d1c9e2324644266a91ebfe54f9d6f50",
      "value": 898823
     }
    }
   }
  }
 },
 "nbformat": 4,
 "nbformat_minor": 1
}
