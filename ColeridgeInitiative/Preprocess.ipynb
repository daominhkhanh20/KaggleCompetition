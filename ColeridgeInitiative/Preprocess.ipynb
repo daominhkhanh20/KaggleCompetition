{
  "nbformat": 4,
  "nbformat_minor": 0,
  "metadata": {
    "colab": {
      "name": "Untitled58_(1).ipynb",
      "provenance": [],
      "collapsed_sections": []
    },
    "kernelspec": {
      "name": "python3",
      "display_name": "Python 3"
    },
    "language_info": {
      "name": "python"
    },
    "accelerator": "GPU",
    "widgets": {
      "application/vnd.jupyter.widget-state+json": {
        "24ffbaa6bb73422cbe87c3cc1b1f7a92": {
          "model_module": "@jupyter-widgets/controls",
          "model_name": "HBoxModel",
          "model_module_version": "1.5.0",
          "state": {
            "_view_name": "HBoxView",
            "_dom_classes": [],
            "_model_name": "HBoxModel",
            "_view_module": "@jupyter-widgets/controls",
            "_model_module_version": "1.5.0",
            "_view_count": null,
            "_view_module_version": "1.5.0",
            "box_style": "",
            "layout": "IPY_MODEL_f3b8e3aa201249b1bb5ac3a4a75c1363",
            "_model_module": "@jupyter-widgets/controls",
            "children": [
              "IPY_MODEL_24bce50698f94fa3b606cb5803550d2b",
              "IPY_MODEL_9faa270e2b1741c39df5fde8f56872d7"
            ]
          }
        },
        "f3b8e3aa201249b1bb5ac3a4a75c1363": {
          "model_module": "@jupyter-widgets/base",
          "model_name": "LayoutModel",
          "model_module_version": "1.2.0",
          "state": {
            "_view_name": "LayoutView",
            "grid_template_rows": null,
            "right": null,
            "justify_content": null,
            "_view_module": "@jupyter-widgets/base",
            "overflow": null,
            "_model_module_version": "1.2.0",
            "_view_count": null,
            "flex_flow": null,
            "width": null,
            "min_width": null,
            "border": null,
            "align_items": null,
            "bottom": null,
            "_model_module": "@jupyter-widgets/base",
            "top": null,
            "grid_column": null,
            "overflow_y": null,
            "overflow_x": null,
            "grid_auto_flow": null,
            "grid_area": null,
            "grid_template_columns": null,
            "flex": null,
            "_model_name": "LayoutModel",
            "justify_items": null,
            "grid_row": null,
            "max_height": null,
            "align_content": null,
            "visibility": null,
            "align_self": null,
            "height": null,
            "min_height": null,
            "padding": null,
            "grid_auto_rows": null,
            "grid_gap": null,
            "max_width": null,
            "order": null,
            "_view_module_version": "1.2.0",
            "grid_template_areas": null,
            "object_position": null,
            "object_fit": null,
            "grid_auto_columns": null,
            "margin": null,
            "display": null,
            "left": null
          }
        },
        "24bce50698f94fa3b606cb5803550d2b": {
          "model_module": "@jupyter-widgets/controls",
          "model_name": "FloatProgressModel",
          "model_module_version": "1.5.0",
          "state": {
            "_view_name": "ProgressView",
            "style": "IPY_MODEL_b20f322f1f804f77b947a7b8c86aa962",
            "_dom_classes": [],
            "description": "100%",
            "_model_name": "FloatProgressModel",
            "bar_style": "success",
            "max": 19661,
            "_view_module": "@jupyter-widgets/controls",
            "_model_module_version": "1.5.0",
            "value": 19661,
            "_view_count": null,
            "_view_module_version": "1.5.0",
            "orientation": "horizontal",
            "min": 0,
            "description_tooltip": null,
            "_model_module": "@jupyter-widgets/controls",
            "layout": "IPY_MODEL_366b1dfc66454f7f9c280c9c8dcbe969"
          }
        },
        "9faa270e2b1741c39df5fde8f56872d7": {
          "model_module": "@jupyter-widgets/controls",
          "model_name": "HTMLModel",
          "model_module_version": "1.5.0",
          "state": {
            "_view_name": "HTMLView",
            "style": "IPY_MODEL_e88b566898a54781b1673fdaf1c4564b",
            "_dom_classes": [],
            "description": "",
            "_model_name": "HTMLModel",
            "placeholder": "​",
            "_view_module": "@jupyter-widgets/controls",
            "_model_module_version": "1.5.0",
            "value": " 19661/19661 [1:16:28&lt;00:00,  4.28it/s]",
            "_view_count": null,
            "_view_module_version": "1.5.0",
            "description_tooltip": null,
            "_model_module": "@jupyter-widgets/controls",
            "layout": "IPY_MODEL_835b2d08d53b405ba654dc3ff84732ac"
          }
        },
        "b20f322f1f804f77b947a7b8c86aa962": {
          "model_module": "@jupyter-widgets/controls",
          "model_name": "ProgressStyleModel",
          "model_module_version": "1.5.0",
          "state": {
            "_view_name": "StyleView",
            "_model_name": "ProgressStyleModel",
            "description_width": "initial",
            "_view_module": "@jupyter-widgets/base",
            "_model_module_version": "1.5.0",
            "_view_count": null,
            "_view_module_version": "1.2.0",
            "bar_color": null,
            "_model_module": "@jupyter-widgets/controls"
          }
        },
        "366b1dfc66454f7f9c280c9c8dcbe969": {
          "model_module": "@jupyter-widgets/base",
          "model_name": "LayoutModel",
          "model_module_version": "1.2.0",
          "state": {
            "_view_name": "LayoutView",
            "grid_template_rows": null,
            "right": null,
            "justify_content": null,
            "_view_module": "@jupyter-widgets/base",
            "overflow": null,
            "_model_module_version": "1.2.0",
            "_view_count": null,
            "flex_flow": null,
            "width": null,
            "min_width": null,
            "border": null,
            "align_items": null,
            "bottom": null,
            "_model_module": "@jupyter-widgets/base",
            "top": null,
            "grid_column": null,
            "overflow_y": null,
            "overflow_x": null,
            "grid_auto_flow": null,
            "grid_area": null,
            "grid_template_columns": null,
            "flex": null,
            "_model_name": "LayoutModel",
            "justify_items": null,
            "grid_row": null,
            "max_height": null,
            "align_content": null,
            "visibility": null,
            "align_self": null,
            "height": null,
            "min_height": null,
            "padding": null,
            "grid_auto_rows": null,
            "grid_gap": null,
            "max_width": null,
            "order": null,
            "_view_module_version": "1.2.0",
            "grid_template_areas": null,
            "object_position": null,
            "object_fit": null,
            "grid_auto_columns": null,
            "margin": null,
            "display": null,
            "left": null
          }
        },
        "e88b566898a54781b1673fdaf1c4564b": {
          "model_module": "@jupyter-widgets/controls",
          "model_name": "DescriptionStyleModel",
          "model_module_version": "1.5.0",
          "state": {
            "_view_name": "StyleView",
            "_model_name": "DescriptionStyleModel",
            "description_width": "",
            "_view_module": "@jupyter-widgets/base",
            "_model_module_version": "1.5.0",
            "_view_count": null,
            "_view_module_version": "1.2.0",
            "_model_module": "@jupyter-widgets/controls"
          }
        },
        "835b2d08d53b405ba654dc3ff84732ac": {
          "model_module": "@jupyter-widgets/base",
          "model_name": "LayoutModel",
          "model_module_version": "1.2.0",
          "state": {
            "_view_name": "LayoutView",
            "grid_template_rows": null,
            "right": null,
            "justify_content": null,
            "_view_module": "@jupyter-widgets/base",
            "overflow": null,
            "_model_module_version": "1.2.0",
            "_view_count": null,
            "flex_flow": null,
            "width": null,
            "min_width": null,
            "border": null,
            "align_items": null,
            "bottom": null,
            "_model_module": "@jupyter-widgets/base",
            "top": null,
            "grid_column": null,
            "overflow_y": null,
            "overflow_x": null,
            "grid_auto_flow": null,
            "grid_area": null,
            "grid_template_columns": null,
            "flex": null,
            "_model_name": "LayoutModel",
            "justify_items": null,
            "grid_row": null,
            "max_height": null,
            "align_content": null,
            "visibility": null,
            "align_self": null,
            "height": null,
            "min_height": null,
            "padding": null,
            "grid_auto_rows": null,
            "grid_gap": null,
            "max_width": null,
            "order": null,
            "_view_module_version": "1.2.0",
            "grid_template_areas": null,
            "object_position": null,
            "object_fit": null,
            "grid_auto_columns": null,
            "margin": null,
            "display": null,
            "left": null
          }
        },
        "aa9fcfdbcbff4cf59e70d78622cdccf2": {
          "model_module": "@jupyter-widgets/controls",
          "model_name": "HBoxModel",
          "model_module_version": "1.5.0",
          "state": {
            "_view_name": "HBoxView",
            "_dom_classes": [],
            "_model_name": "HBoxModel",
            "_view_module": "@jupyter-widgets/controls",
            "_model_module_version": "1.5.0",
            "_view_count": null,
            "_view_module_version": "1.5.0",
            "box_style": "",
            "layout": "IPY_MODEL_b934a4ae7b27492e87e7210c2a85e0f6",
            "_model_module": "@jupyter-widgets/controls",
            "children": [
              "IPY_MODEL_13935bf7c245404fbb5bf01f6155b8b7",
              "IPY_MODEL_3b9d0a84406d4ef9a3b011c8be357f56"
            ]
          }
        },
        "b934a4ae7b27492e87e7210c2a85e0f6": {
          "model_module": "@jupyter-widgets/base",
          "model_name": "LayoutModel",
          "model_module_version": "1.2.0",
          "state": {
            "_view_name": "LayoutView",
            "grid_template_rows": null,
            "right": null,
            "justify_content": null,
            "_view_module": "@jupyter-widgets/base",
            "overflow": null,
            "_model_module_version": "1.2.0",
            "_view_count": null,
            "flex_flow": null,
            "width": null,
            "min_width": null,
            "border": null,
            "align_items": null,
            "bottom": null,
            "_model_module": "@jupyter-widgets/base",
            "top": null,
            "grid_column": null,
            "overflow_y": null,
            "overflow_x": null,
            "grid_auto_flow": null,
            "grid_area": null,
            "grid_template_columns": null,
            "flex": null,
            "_model_name": "LayoutModel",
            "justify_items": null,
            "grid_row": null,
            "max_height": null,
            "align_content": null,
            "visibility": null,
            "align_self": null,
            "height": null,
            "min_height": null,
            "padding": null,
            "grid_auto_rows": null,
            "grid_gap": null,
            "max_width": null,
            "order": null,
            "_view_module_version": "1.2.0",
            "grid_template_areas": null,
            "object_position": null,
            "object_fit": null,
            "grid_auto_columns": null,
            "margin": null,
            "display": null,
            "left": null
          }
        },
        "13935bf7c245404fbb5bf01f6155b8b7": {
          "model_module": "@jupyter-widgets/controls",
          "model_name": "FloatProgressModel",
          "model_module_version": "1.5.0",
          "state": {
            "_view_name": "ProgressView",
            "style": "IPY_MODEL_ef4994a6024e4d058abab17ce37fea4b",
            "_dom_classes": [],
            "description": "100%",
            "_model_name": "FloatProgressModel",
            "bar_style": "success",
            "max": 855383,
            "_view_module": "@jupyter-widgets/controls",
            "_model_module_version": "1.5.0",
            "value": 855383,
            "_view_count": null,
            "_view_module_version": "1.5.0",
            "orientation": "horizontal",
            "min": 0,
            "description_tooltip": null,
            "_model_module": "@jupyter-widgets/controls",
            "layout": "IPY_MODEL_6c66596c425a45ee83248af9f211924c"
          }
        },
        "3b9d0a84406d4ef9a3b011c8be357f56": {
          "model_module": "@jupyter-widgets/controls",
          "model_name": "HTMLModel",
          "model_module_version": "1.5.0",
          "state": {
            "_view_name": "HTMLView",
            "style": "IPY_MODEL_c58d9b38de314d688f305d3c83ab46f1",
            "_dom_classes": [],
            "description": "",
            "_model_name": "HTMLModel",
            "placeholder": "​",
            "_view_module": "@jupyter-widgets/controls",
            "_model_module_version": "1.5.0",
            "value": " 855383/855383 [1:01:07&lt;00:00, 233.23it/s]",
            "_view_count": null,
            "_view_module_version": "1.5.0",
            "description_tooltip": null,
            "_model_module": "@jupyter-widgets/controls",
            "layout": "IPY_MODEL_60ef47b85f2944299f1d3cd51cd58f47"
          }
        },
        "ef4994a6024e4d058abab17ce37fea4b": {
          "model_module": "@jupyter-widgets/controls",
          "model_name": "ProgressStyleModel",
          "model_module_version": "1.5.0",
          "state": {
            "_view_name": "StyleView",
            "_model_name": "ProgressStyleModel",
            "description_width": "initial",
            "_view_module": "@jupyter-widgets/base",
            "_model_module_version": "1.5.0",
            "_view_count": null,
            "_view_module_version": "1.2.0",
            "bar_color": null,
            "_model_module": "@jupyter-widgets/controls"
          }
        },
        "6c66596c425a45ee83248af9f211924c": {
          "model_module": "@jupyter-widgets/base",
          "model_name": "LayoutModel",
          "model_module_version": "1.2.0",
          "state": {
            "_view_name": "LayoutView",
            "grid_template_rows": null,
            "right": null,
            "justify_content": null,
            "_view_module": "@jupyter-widgets/base",
            "overflow": null,
            "_model_module_version": "1.2.0",
            "_view_count": null,
            "flex_flow": null,
            "width": null,
            "min_width": null,
            "border": null,
            "align_items": null,
            "bottom": null,
            "_model_module": "@jupyter-widgets/base",
            "top": null,
            "grid_column": null,
            "overflow_y": null,
            "overflow_x": null,
            "grid_auto_flow": null,
            "grid_area": null,
            "grid_template_columns": null,
            "flex": null,
            "_model_name": "LayoutModel",
            "justify_items": null,
            "grid_row": null,
            "max_height": null,
            "align_content": null,
            "visibility": null,
            "align_self": null,
            "height": null,
            "min_height": null,
            "padding": null,
            "grid_auto_rows": null,
            "grid_gap": null,
            "max_width": null,
            "order": null,
            "_view_module_version": "1.2.0",
            "grid_template_areas": null,
            "object_position": null,
            "object_fit": null,
            "grid_auto_columns": null,
            "margin": null,
            "display": null,
            "left": null
          }
        },
        "c58d9b38de314d688f305d3c83ab46f1": {
          "model_module": "@jupyter-widgets/controls",
          "model_name": "DescriptionStyleModel",
          "model_module_version": "1.5.0",
          "state": {
            "_view_name": "StyleView",
            "_model_name": "DescriptionStyleModel",
            "description_width": "",
            "_view_module": "@jupyter-widgets/base",
            "_model_module_version": "1.5.0",
            "_view_count": null,
            "_view_module_version": "1.2.0",
            "_model_module": "@jupyter-widgets/controls"
          }
        },
        "60ef47b85f2944299f1d3cd51cd58f47": {
          "model_module": "@jupyter-widgets/base",
          "model_name": "LayoutModel",
          "model_module_version": "1.2.0",
          "state": {
            "_view_name": "LayoutView",
            "grid_template_rows": null,
            "right": null,
            "justify_content": null,
            "_view_module": "@jupyter-widgets/base",
            "overflow": null,
            "_model_module_version": "1.2.0",
            "_view_count": null,
            "flex_flow": null,
            "width": null,
            "min_width": null,
            "border": null,
            "align_items": null,
            "bottom": null,
            "_model_module": "@jupyter-widgets/base",
            "top": null,
            "grid_column": null,
            "overflow_y": null,
            "overflow_x": null,
            "grid_auto_flow": null,
            "grid_area": null,
            "grid_template_columns": null,
            "flex": null,
            "_model_name": "LayoutModel",
            "justify_items": null,
            "grid_row": null,
            "max_height": null,
            "align_content": null,
            "visibility": null,
            "align_self": null,
            "height": null,
            "min_height": null,
            "padding": null,
            "grid_auto_rows": null,
            "grid_gap": null,
            "max_width": null,
            "order": null,
            "_view_module_version": "1.2.0",
            "grid_template_areas": null,
            "object_position": null,
            "object_fit": null,
            "grid_auto_columns": null,
            "margin": null,
            "display": null,
            "left": null
          }
        },
        "00e84e8c7598465586abe3d96eea9c45": {
          "model_module": "@jupyter-widgets/controls",
          "model_name": "HBoxModel",
          "model_module_version": "1.5.0",
          "state": {
            "_view_name": "HBoxView",
            "_dom_classes": [],
            "_model_name": "HBoxModel",
            "_view_module": "@jupyter-widgets/controls",
            "_model_module_version": "1.5.0",
            "_view_count": null,
            "_view_module_version": "1.5.0",
            "box_style": "",
            "layout": "IPY_MODEL_1d52ffc4c9954e7db342701a454f6458",
            "_model_module": "@jupyter-widgets/controls",
            "children": [
              "IPY_MODEL_7d0001a8b5c94e57b4336d6d853571dc",
              "IPY_MODEL_0c1f0fbf8da54f768053e22bd4c513a9"
            ]
          }
        },
        "1d52ffc4c9954e7db342701a454f6458": {
          "model_module": "@jupyter-widgets/base",
          "model_name": "LayoutModel",
          "model_module_version": "1.2.0",
          "state": {
            "_view_name": "LayoutView",
            "grid_template_rows": null,
            "right": null,
            "justify_content": null,
            "_view_module": "@jupyter-widgets/base",
            "overflow": null,
            "_model_module_version": "1.2.0",
            "_view_count": null,
            "flex_flow": null,
            "width": null,
            "min_width": null,
            "border": null,
            "align_items": null,
            "bottom": null,
            "_model_module": "@jupyter-widgets/base",
            "top": null,
            "grid_column": null,
            "overflow_y": null,
            "overflow_x": null,
            "grid_auto_flow": null,
            "grid_area": null,
            "grid_template_columns": null,
            "flex": null,
            "_model_name": "LayoutModel",
            "justify_items": null,
            "grid_row": null,
            "max_height": null,
            "align_content": null,
            "visibility": null,
            "align_self": null,
            "height": null,
            "min_height": null,
            "padding": null,
            "grid_auto_rows": null,
            "grid_gap": null,
            "max_width": null,
            "order": null,
            "_view_module_version": "1.2.0",
            "grid_template_areas": null,
            "object_position": null,
            "object_fit": null,
            "grid_auto_columns": null,
            "margin": null,
            "display": null,
            "left": null
          }
        },
        "7d0001a8b5c94e57b4336d6d853571dc": {
          "model_module": "@jupyter-widgets/controls",
          "model_name": "FloatProgressModel",
          "model_module_version": "1.5.0",
          "state": {
            "_view_name": "ProgressView",
            "style": "IPY_MODEL_ad6192214ef84dfdb45d6be33dc44dea",
            "_dom_classes": [],
            "description": "100%",
            "_model_name": "FloatProgressModel",
            "bar_style": "success",
            "max": 163113,
            "_view_module": "@jupyter-widgets/controls",
            "_model_module_version": "1.5.0",
            "value": 163113,
            "_view_count": null,
            "_view_module_version": "1.5.0",
            "orientation": "horizontal",
            "min": 0,
            "description_tooltip": null,
            "_model_module": "@jupyter-widgets/controls",
            "layout": "IPY_MODEL_1400a3d4bf254fa8a865d3469ed20937"
          }
        },
        "0c1f0fbf8da54f768053e22bd4c513a9": {
          "model_module": "@jupyter-widgets/controls",
          "model_name": "HTMLModel",
          "model_module_version": "1.5.0",
          "state": {
            "_view_name": "HTMLView",
            "style": "IPY_MODEL_995cebd515414681bbe9ba9adfe9b4c0",
            "_dom_classes": [],
            "description": "",
            "_model_name": "HTMLModel",
            "placeholder": "​",
            "_view_module": "@jupyter-widgets/controls",
            "_model_module_version": "1.5.0",
            "value": " 163113/163113 [11:08&lt;00:00, 244.13it/s]",
            "_view_count": null,
            "_view_module_version": "1.5.0",
            "description_tooltip": null,
            "_model_module": "@jupyter-widgets/controls",
            "layout": "IPY_MODEL_73a6e1b764094071bb02e8a4abf494b4"
          }
        },
        "ad6192214ef84dfdb45d6be33dc44dea": {
          "model_module": "@jupyter-widgets/controls",
          "model_name": "ProgressStyleModel",
          "model_module_version": "1.5.0",
          "state": {
            "_view_name": "StyleView",
            "_model_name": "ProgressStyleModel",
            "description_width": "initial",
            "_view_module": "@jupyter-widgets/base",
            "_model_module_version": "1.5.0",
            "_view_count": null,
            "_view_module_version": "1.2.0",
            "bar_color": null,
            "_model_module": "@jupyter-widgets/controls"
          }
        },
        "1400a3d4bf254fa8a865d3469ed20937": {
          "model_module": "@jupyter-widgets/base",
          "model_name": "LayoutModel",
          "model_module_version": "1.2.0",
          "state": {
            "_view_name": "LayoutView",
            "grid_template_rows": null,
            "right": null,
            "justify_content": null,
            "_view_module": "@jupyter-widgets/base",
            "overflow": null,
            "_model_module_version": "1.2.0",
            "_view_count": null,
            "flex_flow": null,
            "width": null,
            "min_width": null,
            "border": null,
            "align_items": null,
            "bottom": null,
            "_model_module": "@jupyter-widgets/base",
            "top": null,
            "grid_column": null,
            "overflow_y": null,
            "overflow_x": null,
            "grid_auto_flow": null,
            "grid_area": null,
            "grid_template_columns": null,
            "flex": null,
            "_model_name": "LayoutModel",
            "justify_items": null,
            "grid_row": null,
            "max_height": null,
            "align_content": null,
            "visibility": null,
            "align_self": null,
            "height": null,
            "min_height": null,
            "padding": null,
            "grid_auto_rows": null,
            "grid_gap": null,
            "max_width": null,
            "order": null,
            "_view_module_version": "1.2.0",
            "grid_template_areas": null,
            "object_position": null,
            "object_fit": null,
            "grid_auto_columns": null,
            "margin": null,
            "display": null,
            "left": null
          }
        },
        "995cebd515414681bbe9ba9adfe9b4c0": {
          "model_module": "@jupyter-widgets/controls",
          "model_name": "DescriptionStyleModel",
          "model_module_version": "1.5.0",
          "state": {
            "_view_name": "StyleView",
            "_model_name": "DescriptionStyleModel",
            "description_width": "",
            "_view_module": "@jupyter-widgets/base",
            "_model_module_version": "1.5.0",
            "_view_count": null,
            "_view_module_version": "1.2.0",
            "_model_module": "@jupyter-widgets/controls"
          }
        },
        "73a6e1b764094071bb02e8a4abf494b4": {
          "model_module": "@jupyter-widgets/base",
          "model_name": "LayoutModel",
          "model_module_version": "1.2.0",
          "state": {
            "_view_name": "LayoutView",
            "grid_template_rows": null,
            "right": null,
            "justify_content": null,
            "_view_module": "@jupyter-widgets/base",
            "overflow": null,
            "_model_module_version": "1.2.0",
            "_view_count": null,
            "flex_flow": null,
            "width": null,
            "min_width": null,
            "border": null,
            "align_items": null,
            "bottom": null,
            "_model_module": "@jupyter-widgets/base",
            "top": null,
            "grid_column": null,
            "overflow_y": null,
            "overflow_x": null,
            "grid_auto_flow": null,
            "grid_area": null,
            "grid_template_columns": null,
            "flex": null,
            "_model_name": "LayoutModel",
            "justify_items": null,
            "grid_row": null,
            "max_height": null,
            "align_content": null,
            "visibility": null,
            "align_self": null,
            "height": null,
            "min_height": null,
            "padding": null,
            "grid_auto_rows": null,
            "grid_gap": null,
            "max_width": null,
            "order": null,
            "_view_module_version": "1.2.0",
            "grid_template_areas": null,
            "object_position": null,
            "object_fit": null,
            "grid_auto_columns": null,
            "margin": null,
            "display": null,
            "left": null
          }
        },
        "06c11fee597c474aaab2a837043326ac": {
          "model_module": "@jupyter-widgets/controls",
          "model_name": "HBoxModel",
          "model_module_version": "1.5.0",
          "state": {
            "_view_name": "HBoxView",
            "_dom_classes": [],
            "_model_name": "HBoxModel",
            "_view_module": "@jupyter-widgets/controls",
            "_model_module_version": "1.5.0",
            "_view_count": null,
            "_view_module_version": "1.5.0",
            "box_style": "",
            "layout": "IPY_MODEL_b6e5eefbcf3046898f9acd787e00ada3",
            "_model_module": "@jupyter-widgets/controls",
            "children": [
              "IPY_MODEL_9e4d56dd2bdc4057b0b86c62a788ba6e",
              "IPY_MODEL_0b7afdff1675480abea46a5378a91826"
            ]
          }
        },
        "b6e5eefbcf3046898f9acd787e00ada3": {
          "model_module": "@jupyter-widgets/base",
          "model_name": "LayoutModel",
          "model_module_version": "1.2.0",
          "state": {
            "_view_name": "LayoutView",
            "grid_template_rows": null,
            "right": null,
            "justify_content": null,
            "_view_module": "@jupyter-widgets/base",
            "overflow": null,
            "_model_module_version": "1.2.0",
            "_view_count": null,
            "flex_flow": null,
            "width": null,
            "min_width": null,
            "border": null,
            "align_items": null,
            "bottom": null,
            "_model_module": "@jupyter-widgets/base",
            "top": null,
            "grid_column": null,
            "overflow_y": null,
            "overflow_x": null,
            "grid_auto_flow": null,
            "grid_area": null,
            "grid_template_columns": null,
            "flex": null,
            "_model_name": "LayoutModel",
            "justify_items": null,
            "grid_row": null,
            "max_height": null,
            "align_content": null,
            "visibility": null,
            "align_self": null,
            "height": null,
            "min_height": null,
            "padding": null,
            "grid_auto_rows": null,
            "grid_gap": null,
            "max_width": null,
            "order": null,
            "_view_module_version": "1.2.0",
            "grid_template_areas": null,
            "object_position": null,
            "object_fit": null,
            "grid_auto_columns": null,
            "margin": null,
            "display": null,
            "left": null
          }
        },
        "9e4d56dd2bdc4057b0b86c62a788ba6e": {
          "model_module": "@jupyter-widgets/controls",
          "model_name": "FloatProgressModel",
          "model_module_version": "1.5.0",
          "state": {
            "_view_name": "ProgressView",
            "style": "IPY_MODEL_41c6285e6e8f4225b577c82fca7564de",
            "_dom_classes": [],
            "description": "100%",
            "_model_name": "FloatProgressModel",
            "bar_style": "success",
            "max": 75000,
            "_view_module": "@jupyter-widgets/controls",
            "_model_module_version": "1.5.0",
            "value": 75000,
            "_view_count": null,
            "_view_module_version": "1.5.0",
            "orientation": "horizontal",
            "min": 0,
            "description_tooltip": null,
            "_model_module": "@jupyter-widgets/controls",
            "layout": "IPY_MODEL_397668a6c76e467fa12ecd5b9ff4b5a3"
          }
        },
        "0b7afdff1675480abea46a5378a91826": {
          "model_module": "@jupyter-widgets/controls",
          "model_name": "HTMLModel",
          "model_module_version": "1.5.0",
          "state": {
            "_view_name": "HTMLView",
            "style": "IPY_MODEL_004ce136975e45119316a47db425f1c5",
            "_dom_classes": [],
            "description": "",
            "_model_name": "HTMLModel",
            "placeholder": "​",
            "_view_module": "@jupyter-widgets/controls",
            "_model_module_version": "1.5.0",
            "value": " 75000/75000 [00:16&lt;00:00, 4624.90it/s]",
            "_view_count": null,
            "_view_module_version": "1.5.0",
            "description_tooltip": null,
            "_model_module": "@jupyter-widgets/controls",
            "layout": "IPY_MODEL_1e416f171e1f4ea4abcd24bf439cf461"
          }
        },
        "41c6285e6e8f4225b577c82fca7564de": {
          "model_module": "@jupyter-widgets/controls",
          "model_name": "ProgressStyleModel",
          "model_module_version": "1.5.0",
          "state": {
            "_view_name": "StyleView",
            "_model_name": "ProgressStyleModel",
            "description_width": "initial",
            "_view_module": "@jupyter-widgets/base",
            "_model_module_version": "1.5.0",
            "_view_count": null,
            "_view_module_version": "1.2.0",
            "bar_color": null,
            "_model_module": "@jupyter-widgets/controls"
          }
        },
        "397668a6c76e467fa12ecd5b9ff4b5a3": {
          "model_module": "@jupyter-widgets/base",
          "model_name": "LayoutModel",
          "model_module_version": "1.2.0",
          "state": {
            "_view_name": "LayoutView",
            "grid_template_rows": null,
            "right": null,
            "justify_content": null,
            "_view_module": "@jupyter-widgets/base",
            "overflow": null,
            "_model_module_version": "1.2.0",
            "_view_count": null,
            "flex_flow": null,
            "width": null,
            "min_width": null,
            "border": null,
            "align_items": null,
            "bottom": null,
            "_model_module": "@jupyter-widgets/base",
            "top": null,
            "grid_column": null,
            "overflow_y": null,
            "overflow_x": null,
            "grid_auto_flow": null,
            "grid_area": null,
            "grid_template_columns": null,
            "flex": null,
            "_model_name": "LayoutModel",
            "justify_items": null,
            "grid_row": null,
            "max_height": null,
            "align_content": null,
            "visibility": null,
            "align_self": null,
            "height": null,
            "min_height": null,
            "padding": null,
            "grid_auto_rows": null,
            "grid_gap": null,
            "max_width": null,
            "order": null,
            "_view_module_version": "1.2.0",
            "grid_template_areas": null,
            "object_position": null,
            "object_fit": null,
            "grid_auto_columns": null,
            "margin": null,
            "display": null,
            "left": null
          }
        },
        "004ce136975e45119316a47db425f1c5": {
          "model_module": "@jupyter-widgets/controls",
          "model_name": "DescriptionStyleModel",
          "model_module_version": "1.5.0",
          "state": {
            "_view_name": "StyleView",
            "_model_name": "DescriptionStyleModel",
            "description_width": "",
            "_view_module": "@jupyter-widgets/base",
            "_model_module_version": "1.5.0",
            "_view_count": null,
            "_view_module_version": "1.2.0",
            "_model_module": "@jupyter-widgets/controls"
          }
        },
        "1e416f171e1f4ea4abcd24bf439cf461": {
          "model_module": "@jupyter-widgets/base",
          "model_name": "LayoutModel",
          "model_module_version": "1.2.0",
          "state": {
            "_view_name": "LayoutView",
            "grid_template_rows": null,
            "right": null,
            "justify_content": null,
            "_view_module": "@jupyter-widgets/base",
            "overflow": null,
            "_model_module_version": "1.2.0",
            "_view_count": null,
            "flex_flow": null,
            "width": null,
            "min_width": null,
            "border": null,
            "align_items": null,
            "bottom": null,
            "_model_module": "@jupyter-widgets/base",
            "top": null,
            "grid_column": null,
            "overflow_y": null,
            "overflow_x": null,
            "grid_auto_flow": null,
            "grid_area": null,
            "grid_template_columns": null,
            "flex": null,
            "_model_name": "LayoutModel",
            "justify_items": null,
            "grid_row": null,
            "max_height": null,
            "align_content": null,
            "visibility": null,
            "align_self": null,
            "height": null,
            "min_height": null,
            "padding": null,
            "grid_auto_rows": null,
            "grid_gap": null,
            "max_width": null,
            "order": null,
            "_view_module_version": "1.2.0",
            "grid_template_areas": null,
            "object_position": null,
            "object_fit": null,
            "grid_auto_columns": null,
            "margin": null,
            "display": null,
            "left": null
          }
        },
        "625b5dc15ffb4f70975f0aa07a699e67": {
          "model_module": "@jupyter-widgets/controls",
          "model_name": "HBoxModel",
          "model_module_version": "1.5.0",
          "state": {
            "_view_name": "HBoxView",
            "_dom_classes": [],
            "_model_name": "HBoxModel",
            "_view_module": "@jupyter-widgets/controls",
            "_model_module_version": "1.5.0",
            "_view_count": null,
            "_view_module_version": "1.5.0",
            "box_style": "",
            "layout": "IPY_MODEL_d0f16e6d4f0c4c449b20e7549e1aba8f",
            "_model_module": "@jupyter-widgets/controls",
            "children": [
              "IPY_MODEL_de37f5ee0e10495da98e4d1c581eddbd",
              "IPY_MODEL_479c230aecbe43bda820bfba3b4be334"
            ]
          }
        },
        "d0f16e6d4f0c4c449b20e7549e1aba8f": {
          "model_module": "@jupyter-widgets/base",
          "model_name": "LayoutModel",
          "model_module_version": "1.2.0",
          "state": {
            "_view_name": "LayoutView",
            "grid_template_rows": null,
            "right": null,
            "justify_content": null,
            "_view_module": "@jupyter-widgets/base",
            "overflow": null,
            "_model_module_version": "1.2.0",
            "_view_count": null,
            "flex_flow": null,
            "width": null,
            "min_width": null,
            "border": null,
            "align_items": null,
            "bottom": null,
            "_model_module": "@jupyter-widgets/base",
            "top": null,
            "grid_column": null,
            "overflow_y": null,
            "overflow_x": null,
            "grid_auto_flow": null,
            "grid_area": null,
            "grid_template_columns": null,
            "flex": null,
            "_model_name": "LayoutModel",
            "justify_items": null,
            "grid_row": null,
            "max_height": null,
            "align_content": null,
            "visibility": null,
            "align_self": null,
            "height": null,
            "min_height": null,
            "padding": null,
            "grid_auto_rows": null,
            "grid_gap": null,
            "max_width": null,
            "order": null,
            "_view_module_version": "1.2.0",
            "grid_template_areas": null,
            "object_position": null,
            "object_fit": null,
            "grid_auto_columns": null,
            "margin": null,
            "display": null,
            "left": null
          }
        },
        "de37f5ee0e10495da98e4d1c581eddbd": {
          "model_module": "@jupyter-widgets/controls",
          "model_name": "FloatProgressModel",
          "model_module_version": "1.5.0",
          "state": {
            "_view_name": "ProgressView",
            "style": "IPY_MODEL_0ce2c6d9e3264c8385bec7b9e95650b6",
            "_dom_classes": [],
            "description": "100%",
            "_model_name": "FloatProgressModel",
            "bar_style": "success",
            "max": 75000,
            "_view_module": "@jupyter-widgets/controls",
            "_model_module_version": "1.5.0",
            "value": 75000,
            "_view_count": null,
            "_view_module_version": "1.5.0",
            "orientation": "horizontal",
            "min": 0,
            "description_tooltip": null,
            "_model_module": "@jupyter-widgets/controls",
            "layout": "IPY_MODEL_7c75d6ca8c0844899dd9b0401815db81"
          }
        },
        "479c230aecbe43bda820bfba3b4be334": {
          "model_module": "@jupyter-widgets/controls",
          "model_name": "HTMLModel",
          "model_module_version": "1.5.0",
          "state": {
            "_view_name": "HTMLView",
            "style": "IPY_MODEL_2fccd83b9e78454b86830053e99675c7",
            "_dom_classes": [],
            "description": "",
            "_model_name": "HTMLModel",
            "placeholder": "​",
            "_view_module": "@jupyter-widgets/controls",
            "_model_module_version": "1.5.0",
            "value": " 75000/75000 [01:09&lt;00:00, 1084.22it/s]",
            "_view_count": null,
            "_view_module_version": "1.5.0",
            "description_tooltip": null,
            "_model_module": "@jupyter-widgets/controls",
            "layout": "IPY_MODEL_9c382e9f33174fdd8926bcef32c618a9"
          }
        },
        "0ce2c6d9e3264c8385bec7b9e95650b6": {
          "model_module": "@jupyter-widgets/controls",
          "model_name": "ProgressStyleModel",
          "model_module_version": "1.5.0",
          "state": {
            "_view_name": "StyleView",
            "_model_name": "ProgressStyleModel",
            "description_width": "initial",
            "_view_module": "@jupyter-widgets/base",
            "_model_module_version": "1.5.0",
            "_view_count": null,
            "_view_module_version": "1.2.0",
            "bar_color": null,
            "_model_module": "@jupyter-widgets/controls"
          }
        },
        "7c75d6ca8c0844899dd9b0401815db81": {
          "model_module": "@jupyter-widgets/base",
          "model_name": "LayoutModel",
          "model_module_version": "1.2.0",
          "state": {
            "_view_name": "LayoutView",
            "grid_template_rows": null,
            "right": null,
            "justify_content": null,
            "_view_module": "@jupyter-widgets/base",
            "overflow": null,
            "_model_module_version": "1.2.0",
            "_view_count": null,
            "flex_flow": null,
            "width": null,
            "min_width": null,
            "border": null,
            "align_items": null,
            "bottom": null,
            "_model_module": "@jupyter-widgets/base",
            "top": null,
            "grid_column": null,
            "overflow_y": null,
            "overflow_x": null,
            "grid_auto_flow": null,
            "grid_area": null,
            "grid_template_columns": null,
            "flex": null,
            "_model_name": "LayoutModel",
            "justify_items": null,
            "grid_row": null,
            "max_height": null,
            "align_content": null,
            "visibility": null,
            "align_self": null,
            "height": null,
            "min_height": null,
            "padding": null,
            "grid_auto_rows": null,
            "grid_gap": null,
            "max_width": null,
            "order": null,
            "_view_module_version": "1.2.0",
            "grid_template_areas": null,
            "object_position": null,
            "object_fit": null,
            "grid_auto_columns": null,
            "margin": null,
            "display": null,
            "left": null
          }
        },
        "2fccd83b9e78454b86830053e99675c7": {
          "model_module": "@jupyter-widgets/controls",
          "model_name": "DescriptionStyleModel",
          "model_module_version": "1.5.0",
          "state": {
            "_view_name": "StyleView",
            "_model_name": "DescriptionStyleModel",
            "description_width": "",
            "_view_module": "@jupyter-widgets/base",
            "_model_module_version": "1.5.0",
            "_view_count": null,
            "_view_module_version": "1.2.0",
            "_model_module": "@jupyter-widgets/controls"
          }
        },
        "9c382e9f33174fdd8926bcef32c618a9": {
          "model_module": "@jupyter-widgets/base",
          "model_name": "LayoutModel",
          "model_module_version": "1.2.0",
          "state": {
            "_view_name": "LayoutView",
            "grid_template_rows": null,
            "right": null,
            "justify_content": null,
            "_view_module": "@jupyter-widgets/base",
            "overflow": null,
            "_model_module_version": "1.2.0",
            "_view_count": null,
            "flex_flow": null,
            "width": null,
            "min_width": null,
            "border": null,
            "align_items": null,
            "bottom": null,
            "_model_module": "@jupyter-widgets/base",
            "top": null,
            "grid_column": null,
            "overflow_y": null,
            "overflow_x": null,
            "grid_auto_flow": null,
            "grid_area": null,
            "grid_template_columns": null,
            "flex": null,
            "_model_name": "LayoutModel",
            "justify_items": null,
            "grid_row": null,
            "max_height": null,
            "align_content": null,
            "visibility": null,
            "align_self": null,
            "height": null,
            "min_height": null,
            "padding": null,
            "grid_auto_rows": null,
            "grid_gap": null,
            "max_width": null,
            "order": null,
            "_view_module_version": "1.2.0",
            "grid_template_areas": null,
            "object_position": null,
            "object_fit": null,
            "grid_auto_columns": null,
            "margin": null,
            "display": null,
            "left": null
          }
        }
      }
    }
  },
  "cells": [
    {
      "cell_type": "code",
      "metadata": {
        "colab": {
          "base_uri": "https://localhost:8080/"
        },
        "id": "TiGwgOK_BvyB",
        "outputId": "826fae3e-7d3e-4d2f-87a9-a08881345420"
      },
      "source": [
        "!nvidia-smi"
      ],
      "execution_count": null,
      "outputs": [
        {
          "output_type": "stream",
          "text": [
            "Fri Aug 13 13:38:59 2021       \n",
            "+-----------------------------------------------------------------------------+\n",
            "| NVIDIA-SMI 470.42.01    Driver Version: 460.32.03    CUDA Version: 11.2     |\n",
            "|-------------------------------+----------------------+----------------------+\n",
            "| GPU  Name        Persistence-M| Bus-Id        Disp.A | Volatile Uncorr. ECC |\n",
            "| Fan  Temp  Perf  Pwr:Usage/Cap|         Memory-Usage | GPU-Util  Compute M. |\n",
            "|                               |                      |               MIG M. |\n",
            "|===============================+======================+======================|\n",
            "|   0  Tesla T4            Off  | 00000000:00:04.0 Off |                    0 |\n",
            "| N/A   45C    P8    10W /  70W |      0MiB / 15109MiB |      0%      Default |\n",
            "|                               |                      |                  N/A |\n",
            "+-------------------------------+----------------------+----------------------+\n",
            "                                                                               \n",
            "+-----------------------------------------------------------------------------+\n",
            "| Processes:                                                                  |\n",
            "|  GPU   GI   CI        PID   Type   Process name                  GPU Memory |\n",
            "|        ID   ID                                                   Usage      |\n",
            "|=============================================================================|\n",
            "|  No running processes found                                                 |\n",
            "+-----------------------------------------------------------------------------+\n"
          ],
          "name": "stdout"
        }
      ]
    },
    {
      "cell_type": "code",
      "metadata": {
        "colab": {
          "base_uri": "https://localhost:8080/"
        },
        "id": "wcFdV0x-NPd5",
        "outputId": "378bfbbb-875d-41cd-d8c5-e0028f362431"
      },
      "source": [
        "from google.colab import drive \n",
        "drive.mount('/content/drive')"
      ],
      "execution_count": null,
      "outputs": [
        {
          "output_type": "stream",
          "text": [
            "Mounted at /content/drive\n"
          ],
          "name": "stdout"
        }
      ]
    },
    {
      "cell_type": "code",
      "metadata": {
        "id": "S9t5khquNQ9d"
      },
      "source": [
        "!unzip /content/drive/MyDrive/KaggleData/coleridgeinitiative-show-us-the-data.zip"
      ],
      "execution_count": null,
      "outputs": []
    },
    {
      "cell_type": "code",
      "metadata": {
        "id": "k6EkvroVNRGE",
        "colab": {
          "base_uri": "https://localhost:8080/"
        },
        "outputId": "0cbddd6c-fdaf-4ec9-f9c3-587ef7ea8935"
      },
      "source": [
        "!pip install transformers"
      ],
      "execution_count": null,
      "outputs": [
        {
          "output_type": "stream",
          "text": [
            "Collecting transformers\n",
            "  Downloading transformers-4.9.2-py3-none-any.whl (2.6 MB)\n",
            "\u001b[K     |████████████████████████████████| 2.6 MB 7.4 MB/s \n",
            "\u001b[?25hCollecting tokenizers<0.11,>=0.10.1\n",
            "  Downloading tokenizers-0.10.3-cp37-cp37m-manylinux_2_5_x86_64.manylinux1_x86_64.manylinux_2_12_x86_64.manylinux2010_x86_64.whl (3.3 MB)\n",
            "\u001b[K     |████████████████████████████████| 3.3 MB 26.2 MB/s \n",
            "\u001b[?25hRequirement already satisfied: importlib-metadata in /usr/local/lib/python3.7/dist-packages (from transformers) (4.6.1)\n",
            "Collecting huggingface-hub==0.0.12\n",
            "  Downloading huggingface_hub-0.0.12-py3-none-any.whl (37 kB)\n",
            "Collecting pyyaml>=5.1\n",
            "  Downloading PyYAML-5.4.1-cp37-cp37m-manylinux1_x86_64.whl (636 kB)\n",
            "\u001b[K     |████████████████████████████████| 636 kB 19.2 MB/s \n",
            "\u001b[?25hRequirement already satisfied: requests in /usr/local/lib/python3.7/dist-packages (from transformers) (2.23.0)\n",
            "Requirement already satisfied: tqdm>=4.27 in /usr/local/lib/python3.7/dist-packages (from transformers) (4.41.1)\n",
            "Requirement already satisfied: packaging in /usr/local/lib/python3.7/dist-packages (from transformers) (21.0)\n",
            "Requirement already satisfied: filelock in /usr/local/lib/python3.7/dist-packages (from transformers) (3.0.12)\n",
            "Requirement already satisfied: regex!=2019.12.17 in /usr/local/lib/python3.7/dist-packages (from transformers) (2019.12.20)\n",
            "Collecting sacremoses\n",
            "  Downloading sacremoses-0.0.45-py3-none-any.whl (895 kB)\n",
            "\u001b[K     |████████████████████████████████| 895 kB 54.4 MB/s \n",
            "\u001b[?25hRequirement already satisfied: numpy>=1.17 in /usr/local/lib/python3.7/dist-packages (from transformers) (1.19.5)\n",
            "Requirement already satisfied: typing-extensions in /usr/local/lib/python3.7/dist-packages (from huggingface-hub==0.0.12->transformers) (3.7.4.3)\n",
            "Requirement already satisfied: pyparsing>=2.0.2 in /usr/local/lib/python3.7/dist-packages (from packaging->transformers) (2.4.7)\n",
            "Requirement already satisfied: zipp>=0.5 in /usr/local/lib/python3.7/dist-packages (from importlib-metadata->transformers) (3.5.0)\n",
            "Requirement already satisfied: idna<3,>=2.5 in /usr/local/lib/python3.7/dist-packages (from requests->transformers) (2.10)\n",
            "Requirement already satisfied: certifi>=2017.4.17 in /usr/local/lib/python3.7/dist-packages (from requests->transformers) (2021.5.30)\n",
            "Requirement already satisfied: chardet<4,>=3.0.2 in /usr/local/lib/python3.7/dist-packages (from requests->transformers) (3.0.4)\n",
            "Requirement already satisfied: urllib3!=1.25.0,!=1.25.1,<1.26,>=1.21.1 in /usr/local/lib/python3.7/dist-packages (from requests->transformers) (1.24.3)\n",
            "Requirement already satisfied: joblib in /usr/local/lib/python3.7/dist-packages (from sacremoses->transformers) (1.0.1)\n",
            "Requirement already satisfied: six in /usr/local/lib/python3.7/dist-packages (from sacremoses->transformers) (1.15.0)\n",
            "Requirement already satisfied: click in /usr/local/lib/python3.7/dist-packages (from sacremoses->transformers) (7.1.2)\n",
            "Installing collected packages: tokenizers, sacremoses, pyyaml, huggingface-hub, transformers\n",
            "  Attempting uninstall: pyyaml\n",
            "    Found existing installation: PyYAML 3.13\n",
            "    Uninstalling PyYAML-3.13:\n",
            "      Successfully uninstalled PyYAML-3.13\n",
            "Successfully installed huggingface-hub-0.0.12 pyyaml-5.4.1 sacremoses-0.0.45 tokenizers-0.10.3 transformers-4.9.2\n"
          ],
          "name": "stdout"
        }
      ]
    },
    {
      "cell_type": "code",
      "metadata": {
        "colab": {
          "base_uri": "https://localhost:8080/"
        },
        "id": "LB4w0IElNRDD",
        "outputId": "0de5ed4e-1215-43e5-95e0-18cfa4c8aec7"
      },
      "source": [
        "import pandas as pd \n",
        "import numpy as np \n",
        "import json \n",
        "import seaborn as sns \n",
        "import math \n",
        "from matplotlib import pyplot as plt \n",
        "from tokenizers import ByteLevelBPETokenizer\n",
        "import torch \n",
        "from torch import nn\n",
        "from torch.utils.data import Dataset,DataLoader,TensorDataset\n",
        "from transformers import RobertaModel,RobertaTokenizer,GPT2Model,GPT2TokenizerFast,AdamW,get_linear_schedule_with_warmup,RobertaConfig,GPT2Config\n",
        "import os \n",
        "import random \n",
        "from sklearn.model_selection import train_test_split\n",
        "from tqdm.auto import tqdm \n",
        "from tqdm.notebook import tqdm\n",
        "from sklearn.utils import shuffle\n",
        "tqdm.pandas()\n",
        "import gc \n",
        "from tokenizers import ByteLevelBPETokenizer\n",
        "gc.enable()"
      ],
      "execution_count": null,
      "outputs": [
        {
          "output_type": "stream",
          "text": [
            "/usr/local/lib/python3.7/dist-packages/tqdm/std.py:658: FutureWarning: The Panel class is removed from pandas. Accessing it from the top-level namespace will also be removed in the next version\n",
            "  from pandas import Panel\n"
          ],
          "name": "stderr"
        }
      ]
    },
    {
      "cell_type": "code",
      "metadata": {
        "id": "ODfNItI8kadw",
        "colab": {
          "base_uri": "https://localhost:8080/"
        },
        "outputId": "8676b049-24ed-4f3f-871b-cc9e12e830a8"
      },
      "source": [
        "os.environ['KAGGLE_USERNAME']='daominhkhanh'\n",
        "os.environ['KAGGLE_KEY']=\"a6b5596f1c2c9adbeda916b0ec27faba\"\n",
        "!kaggle datasets download -d daominhkhanh/gpt2tokenizer\n",
        "!kaggle datasets download -d daominhkhanh/robertabasetokenizer"
      ],
      "execution_count": null,
      "outputs": [
        {
          "output_type": "stream",
          "text": [
            "Downloading gpt2tokenizer.zip to /content\n",
            "\r  0% 0.00/556k [00:00<?, ?B/s]\n",
            "100% 556k/556k [00:00<00:00, 75.9MB/s]\n",
            "Downloading robertabasetokenizer.zip to /content\n",
            "  0% 0.00/541k [00:00<?, ?B/s]\n",
            "100% 541k/541k [00:00<00:00, 80.2MB/s]\n"
          ],
          "name": "stdout"
        }
      ]
    },
    {
      "cell_type": "code",
      "metadata": {
        "id": "3DOVqmPGlVyx",
        "colab": {
          "base_uri": "https://localhost:8080/"
        },
        "outputId": "dd31a3a9-f5ba-4fd0-a17c-c93b6958de2e"
      },
      "source": [
        "!unzip gpt2tokenizer.zip \n",
        "!mkdir GPT2 \n",
        "!mv *.json GPT2\n",
        "!mv merges.txt GPT2\n",
        "\n",
        "!unzip robertabasetokenizer.zip\n",
        "!mkdir Roberta\n",
        "!mv *.json Roberta\n",
        "!mv merges.txt Roberta"
      ],
      "execution_count": null,
      "outputs": [
        {
          "output_type": "stream",
          "text": [
            "Archive:  gpt2tokenizer.zip\n",
            "  inflating: config.json             \n",
            "  inflating: merges.txt              \n",
            "  inflating: vocab.json              \n",
            "Archive:  robertabasetokenizer.zip\n",
            "  inflating: config.json             \n",
            "  inflating: merges.txt              \n",
            "  inflating: vocab.json              \n"
          ],
          "name": "stdout"
        }
      ]
    },
    {
      "cell_type": "code",
      "metadata": {
        "id": "T7FaJB4cl0wy"
      },
      "source": [
        "!rm *.zip"
      ],
      "execution_count": null,
      "outputs": []
    },
    {
      "cell_type": "code",
      "metadata": {
        "id": "2TgdvwR_Ol1C"
      },
      "source": [
        "train=pd.read_csv('train.csv')\n",
        "sample_submission=pd.read_csv(\"sample_submission.csv\")"
      ],
      "execution_count": null,
      "outputs": []
    },
    {
      "cell_type": "code",
      "metadata": {
        "colab": {
          "base_uri": "https://localhost:8080/"
        },
        "id": "An_1-o3jPN6U",
        "outputId": "c7982203-0464-44aa-c737-ca854e5d6c78"
      },
      "source": [
        "print(f\"We have {len(os.listdir('/content/train'))} file json for train\")\n",
        "print(f\"we have {len(os.listdir('/content/test'))} file json for test\")"
      ],
      "execution_count": null,
      "outputs": [
        {
          "output_type": "stream",
          "text": [
            "We have 14316 file json for train\n",
            "we have 4 file json for test\n"
          ],
          "name": "stdout"
        }
      ]
    },
    {
      "cell_type": "code",
      "metadata": {
        "id": "EFNICvgfoPvL"
      },
      "source": [
        "import re\n",
        "def clean_text(text):\n",
        "  return re.sub('[^A-Za-z0-9]+',' ',text.lower()).strip()"
      ],
      "execution_count": null,
      "outputs": []
    },
    {
      "cell_type": "code",
      "metadata": {
        "id": "qjWXb1d8Yv_p"
      },
      "source": [
        "class Config:\n",
        "  MAX_LENGTH=256\n",
        "  WINDOWN_SIZE=28\n",
        "  IS_LOWER=False\n",
        "  "
      ],
      "execution_count": null,
      "outputs": []
    },
    {
      "cell_type": "code",
      "metadata": {
        "id": "x1i2UY37wOJ_"
      },
      "source": [
        "tokenizer=ByteLevelBPETokenizer(\n",
        "    vocab='/content/Roberta/vocab.json',\n",
        "    merges='/content/Roberta/merges.txt',\n",
        "    add_prefix_space=False,\n",
        "    lowercase=False\n",
        ")"
      ],
      "execution_count": null,
      "outputs": []
    },
    {
      "cell_type": "code",
      "metadata": {
        "colab": {
          "base_uri": "https://localhost:8080/",
          "height": 66,
          "referenced_widgets": [
            "24ffbaa6bb73422cbe87c3cc1b1f7a92",
            "f3b8e3aa201249b1bb5ac3a4a75c1363",
            "24bce50698f94fa3b606cb5803550d2b",
            "9faa270e2b1741c39df5fde8f56872d7",
            "b20f322f1f804f77b947a7b8c86aa962",
            "366b1dfc66454f7f9c280c9c8dcbe969",
            "e88b566898a54781b1673fdaf1c4564b",
            "835b2d08d53b405ba654dc3ff84732ac"
          ]
        },
        "id": "CdbRcq1UoHKV",
        "outputId": "fd11a864-64d6-40b5-99a5-eec1d5918dbe"
      },
      "source": [
        "train_df=pd.DataFrame()\n",
        "texts=[]\n",
        "pub_titles=[]\n",
        "labels=[]\n",
        "ids=[]\n",
        "for idx,row in tqdm(train.iterrows(),total=len(train)):\n",
        "  data_json=json.load(open(f'/content/train/{row.Id}.json','rt'))\n",
        "  text=\"\"\n",
        "  for section in data_json:\n",
        "    text+=\" \".join(section['text'].replace('\\n',' ').split())+\" \"\n",
        "  text=clean_text(text)\n",
        "  input_ids=tokenizer.encode(text,add_special_tokens=False).ids\n",
        "  n_sample=math.ceil(len(input_ids)/(Config.MAX_LENGTH-Config.WINDOWN_SIZE))\n",
        "  label=clean_text(row.dataset_label)\n",
        "  if label not in text:\n",
        "    print(row.Id)\n",
        "  for sample in range(n_sample):\n",
        "    start=(Config.MAX_LENGTH-Config.WINDOWN_SIZE)*sample\n",
        "    end=min(start+Config.MAX_LENGTH,len(input_ids))\n",
        "    curr_ids=input_ids[start:end]\n",
        "    curr_text=tokenizer.decode(curr_ids)\n",
        "    texts.append(curr_text)\n",
        "    if label in curr_text:\n",
        "      labels.append(label)\n",
        "    else:\n",
        "      labels.append(\"\")\n",
        "    pub_titles.append(row.pub_title)\n",
        "    ids.append(row.Id)"
      ],
      "execution_count": null,
      "outputs": [
        {
          "output_type": "display_data",
          "data": {
            "application/vnd.jupyter.widget-view+json": {
              "model_id": "24ffbaa6bb73422cbe87c3cc1b1f7a92",
              "version_major": 2,
              "version_minor": 0
            },
            "text/plain": [
              "HBox(children=(FloatProgress(value=0.0, max=19661.0), HTML(value='')))"
            ]
          },
          "metadata": {
            "tags": []
          }
        },
        {
          "output_type": "stream",
          "text": [
            "\n"
          ],
          "name": "stdout"
        }
      ]
    },
    {
      "cell_type": "code",
      "metadata": {
        "id": "Fm6nCZ2aZerh"
      },
      "source": [
        "train_df['id']=ids\n",
        "train_df['text']=texts\n",
        "train_df['pub_titles']=pub_titles\n",
        "train_df['label']=labels\n",
        "train_df=train_df.fillna(\"\")\n",
        "train_df.to_csv(f\"/content/drive/MyDrive/ColeridgeInitiative/train_processed_{Config.MAX_LENGTH}.csv\")"
      ],
      "execution_count": null,
      "outputs": []
    },
    {
      "cell_type": "code",
      "metadata": {
        "colab": {
          "base_uri": "https://localhost:8080/",
          "height": 424
        },
        "id": "EI3uGJjOngJp",
        "outputId": "7ed56d7a-3dea-45a4-ef01-d1d18ea72ea3"
      },
      "source": [
        "train_df"
      ],
      "execution_count": null,
      "outputs": [
        {
          "output_type": "execute_result",
          "data": {
            "text/html": [
              "<div>\n",
              "<style scoped>\n",
              "    .dataframe tbody tr th:only-of-type {\n",
              "        vertical-align: middle;\n",
              "    }\n",
              "\n",
              "    .dataframe tbody tr th {\n",
              "        vertical-align: top;\n",
              "    }\n",
              "\n",
              "    .dataframe thead th {\n",
              "        text-align: right;\n",
              "    }\n",
              "</style>\n",
              "<table border=\"1\" class=\"dataframe\">\n",
              "  <thead>\n",
              "    <tr style=\"text-align: right;\">\n",
              "      <th></th>\n",
              "      <th>id</th>\n",
              "      <th>text</th>\n",
              "      <th>pub_titles</th>\n",
              "      <th>label</th>\n",
              "    </tr>\n",
              "  </thead>\n",
              "  <tbody>\n",
              "    <tr>\n",
              "      <th>0</th>\n",
              "      <td>d0fa7568-7d8e-4db9-870f-f9c6f668c17b</td>\n",
              "      <td>this study used data from the national educati...</td>\n",
              "      <td>The Impact of Dual Enrollment on College Degre...</td>\n",
              "      <td>national education longitudinal study</td>\n",
              "    </tr>\n",
              "    <tr>\n",
              "      <th>1</th>\n",
              "      <td>d0fa7568-7d8e-4db9-870f-f9c6f668c17b</td>\n",
              "      <td>coursework and enabling students to accumulat...</td>\n",
              "      <td>The Impact of Dual Enrollment on College Degre...</td>\n",
              "      <td></td>\n",
              "    </tr>\n",
              "    <tr>\n",
              "      <th>2</th>\n",
              "      <td>d0fa7568-7d8e-4db9-870f-f9c6f668c17b</td>\n",
              "      <td>enrollment course were not more likely to att...</td>\n",
              "      <td>The Impact of Dual Enrollment on College Degre...</td>\n",
              "      <td></td>\n",
              "    </tr>\n",
              "    <tr>\n",
              "      <th>3</th>\n",
              "      <td>d0fa7568-7d8e-4db9-870f-f9c6f668c17b</td>\n",
              "      <td>the nels sample who attended college and part...</td>\n",
              "      <td>The Impact of Dual Enrollment on College Degre...</td>\n",
              "      <td>national education longitudinal study</td>\n",
              "    </tr>\n",
              "    <tr>\n",
              "      <th>4</th>\n",
              "      <td>d0fa7568-7d8e-4db9-870f-f9c6f668c17b</td>\n",
              "      <td>were included in the study the effect size is...</td>\n",
              "      <td>The Impact of Dual Enrollment on College Degre...</td>\n",
              "      <td></td>\n",
              "    </tr>\n",
              "    <tr>\n",
              "      <th>...</th>\n",
              "      <td>...</td>\n",
              "      <td>...</td>\n",
              "      <td>...</td>\n",
              "      <td>...</td>\n",
              "    </tr>\n",
              "    <tr>\n",
              "      <th>855378</th>\n",
              "      <td>fd23e7e0-a5d2-4f98-992d-9209c85153bb</td>\n",
              "      <td>db 4 unique structures have been fetched from ...</td>\n",
              "      <td>A ligand-based computational drug repurposing ...</td>\n",
              "      <td></td>\n",
              "    </tr>\n",
              "    <tr>\n",
              "      <th>855379</th>\n",
              "      <td>fd23e7e0-a5d2-4f98-992d-9209c85153bb</td>\n",
              "      <td>structural query it appears interesting that ...</td>\n",
              "      <td>A ligand-based computational drug repurposing ...</td>\n",
              "      <td></td>\n",
              "    </tr>\n",
              "    <tr>\n",
              "      <th>855380</th>\n",
              "      <td>fd23e7e0-a5d2-4f98-992d-9209c85153bb</td>\n",
              "      <td>steps of the workflow tutorials and the diffe...</td>\n",
              "      <td>A ligand-based computational drug repurposing ...</td>\n",
              "      <td></td>\n",
              "    </tr>\n",
              "    <tr>\n",
              "      <th>855381</th>\n",
              "      <td>fd23e7e0-a5d2-4f98-992d-9209c85153bb</td>\n",
              "      <td>silico drug repurposing the consecutive data ...</td>\n",
              "      <td>A ligand-based computational drug repurposing ...</td>\n",
              "      <td></td>\n",
              "    </tr>\n",
              "    <tr>\n",
              "      <th>855382</th>\n",
              "      <td>fd23e7e0-a5d2-4f98-992d-9209c85153bb</td>\n",
              "      <td>gained on covid 19 and glut 1 data are freely...</td>\n",
              "      <td>A ligand-based computational drug repurposing ...</td>\n",
              "      <td></td>\n",
              "    </tr>\n",
              "  </tbody>\n",
              "</table>\n",
              "<p>855383 rows × 4 columns</p>\n",
              "</div>"
            ],
            "text/plain": [
              "                                          id  ...                                  label\n",
              "0       d0fa7568-7d8e-4db9-870f-f9c6f668c17b  ...  national education longitudinal study\n",
              "1       d0fa7568-7d8e-4db9-870f-f9c6f668c17b  ...                                       \n",
              "2       d0fa7568-7d8e-4db9-870f-f9c6f668c17b  ...                                       \n",
              "3       d0fa7568-7d8e-4db9-870f-f9c6f668c17b  ...  national education longitudinal study\n",
              "4       d0fa7568-7d8e-4db9-870f-f9c6f668c17b  ...                                       \n",
              "...                                      ...  ...                                    ...\n",
              "855378  fd23e7e0-a5d2-4f98-992d-9209c85153bb  ...                                       \n",
              "855379  fd23e7e0-a5d2-4f98-992d-9209c85153bb  ...                                       \n",
              "855380  fd23e7e0-a5d2-4f98-992d-9209c85153bb  ...                                       \n",
              "855381  fd23e7e0-a5d2-4f98-992d-9209c85153bb  ...                                       \n",
              "855382  fd23e7e0-a5d2-4f98-992d-9209c85153bb  ...                                       \n",
              "\n",
              "[855383 rows x 4 columns]"
            ]
          },
          "metadata": {
            "tags": []
          },
          "execution_count": 16
        }
      ]
    },
    {
      "cell_type": "code",
      "metadata": {
        "id": "cqXJTSCxn2O5"
      },
      "source": [
        "# # Finding missing abbreviation of training labels\n",
        "\n",
        "acronyms = {\n",
        "    \"alzheimer's disease neuroimaging initiative\": \"adni\",\n",
        "    \"alzheimer's disease cooperative study\": \"adcs\",\n",
        "    \"baltimore longitudinal study of aging\":  \"blsa\",\n",
        "    \"covid-19 open research dataset\": \"cord-19\",\n",
        "#     \"census of agriculture\": \"coa\",\n",
        "    \"characterizing health associated risks and your baseline disease in sars cov 2\": \"charybdis\",\n",
        "    \"nces core of common data\": \"ccd\",\n",
        "    \"complexity science hub covid 19 control strategies list\": \"cccsl\",\n",
        "    \"coastal change analysis program\": \"c-cap\",\n",
        "    \"noaa national water level observation network\": \"nwlon\",\n",
        "    \"noaa sea lake and overland surges from hurricanes\": \"slosh\",\n",
        "    \"international best-track archive for climate stewardship\": \"ibtracs\",\n",
        "    \"optimum interpolation sea surface temperature\": \"oisst\",\n",
        "    \"rural-urban continuum codes\": \"ruccs\",\n",
        "    \"north american breeding bird survey\": \"bbs\",\n",
        "    \"aging integrated database\": \"agid\",\n",
        "    \"national institute on aging genetics of alzheimer s disease data storage site\": \"niagads\",\n",
        "#     \"agricultural and resource management survey\": \"arm\",\n",
        "    \"baccalaureate and beyond longitudinal study\": \"b&b\",\n",
        "    \"early childhood longitudinal study\": \"ecls\",\n",
        "    \"national longitudinal transition study\": \"nlts\",\n",
        "    \"national education longitudinal studies\": \"nels\",\n",
        "    \"high school longitudinal study\": \"hsls\",\n",
        "    \"national assessment of education progress\": \"naep\",\n",
        "    \"noaa world ocean database\": \"wod\",\n",
        "    \"survey of doctorate recipients\": \"sdr\",\n",
        "    \"international survey of doctoral recipients\": \"isdr\",\n",
        "#     \"survey of earned doctorates\": \"sed\",\n",
        "    \"survey of industrial research and development\": \"sird\",\n",
        "    \"national teacher and principal survey\": \"ntps\",\n",
        "    \"international assessment of adult competencies\": \"piaac\",\n",
        "    \"rsna international covid 19 open radiology database\": \"ricord\",\n",
        "    \"survey of doctorate recipients\": \"sdr\",\n",
        "    \"school survey on crime and safety\": \"ssocs\",\n",
        "    \"trends in international mathematics and science survey\": \"timss\",\n",
        "    \"national postsecondary student aid survey\": \"npsas\",\n",
        "#     \"postsecondary longitudinal studies\" : \"pls\"\n",
        "}\n",
        "for key, val in acronyms.items():\n",
        "    acronyms[key] = val.upper()"
      ],
      "execution_count": null,
      "outputs": []
    },
    {
      "cell_type": "code",
      "metadata": {
        "colab": {
          "base_uri": "https://localhost:8080/"
        },
        "id": "dtOqi1QeqGpO",
        "outputId": "74044c78-6b7d-4ec7-9f85-05be9daedfd1"
      },
      "source": [
        "acronyms.values()"
      ],
      "execution_count": null,
      "outputs": [
        {
          "output_type": "execute_result",
          "data": {
            "text/plain": [
              "dict_values(['ADNI', 'ADCS', 'BLSA', 'CORD-19', 'CHARYBDIS', 'CCD', 'CCCSL', 'C-CAP', 'NWLON', 'SLOSH', 'IBTRACS', 'OISST', 'RUCCS', 'BBS', 'AGID', 'NIAGADS', 'B&B', 'ECLS', 'NLTS', 'NELS', 'HSLS', 'NAEP', 'WOD', 'SDR', 'ISDR', 'SIRD', 'NTPS', 'PIAAC', 'RICORD', 'SSOCS', 'TIMSS', 'NPSAS'])"
            ]
          },
          "metadata": {
            "tags": []
          },
          "execution_count": 18
        }
      ]
    },
    {
      "cell_type": "code",
      "metadata": {
        "id": "4B8oJr-Fn2SJ"
      },
      "source": [
        "val_group=[clean_text(x) for x in open('val_groups.txt','rt').readlines()]\n",
        "train_group=[clean_text(x) for x in set(train_df.label.values) if clean_text(x) not in val_group and len(x)>0]\n",
        "train_group.extend([clean_text(x) for x in acronyms.values()])\n",
        "val_group=np.array(val_group)\n",
        "train_group=np.array(train_group)"
      ],
      "execution_count": null,
      "outputs": []
    },
    {
      "cell_type": "code",
      "metadata": {
        "colab": {
          "base_uri": "https://localhost:8080/",
          "height": 66,
          "referenced_widgets": [
            "aa9fcfdbcbff4cf59e70d78622cdccf2",
            "b934a4ae7b27492e87e7210c2a85e0f6",
            "13935bf7c245404fbb5bf01f6155b8b7",
            "3b9d0a84406d4ef9a3b011c8be357f56",
            "ef4994a6024e4d058abab17ce37fea4b",
            "6c66596c425a45ee83248af9f211924c",
            "c58d9b38de314d688f305d3c83ab46f1",
            "60ef47b85f2944299f1d3cd51cd58f47"
          ]
        },
        "id": "gegv4hD_n2Vb",
        "outputId": "a8278536-d9eb-409e-c1ec-75aae24fe453"
      },
      "source": [
        "def find_validation(row):\n",
        "  text=row.text\n",
        "  is_train,is_val=False,False\n",
        "  for label in train_group:\n",
        "    if label in text:\n",
        "      if len(label.split())>1 or \" \"+label in text:\n",
        "        is_train=True\n",
        "        break\n",
        "  for label in val_group:\n",
        "    if label in text:\n",
        "      is_val=True\n",
        "      break\n",
        "  if is_train is True and is_val is True:\n",
        "    return None \n",
        "  if is_train is True and is_val is False:\n",
        "    return 'train'\n",
        "  if is_train is False and is_val is True:\n",
        "    return 'val'\n",
        "  if is_train is False and is_val is False:\n",
        "    return 'train' if np.random.rand()>0.2 else 'val'\n",
        "train_df['group']=train_df.progress_apply(find_validation,axis=1)"
      ],
      "execution_count": null,
      "outputs": [
        {
          "output_type": "display_data",
          "data": {
            "application/vnd.jupyter.widget-view+json": {
              "model_id": "aa9fcfdbcbff4cf59e70d78622cdccf2",
              "version_minor": 0,
              "version_major": 2
            },
            "text/plain": [
              "HBox(children=(FloatProgress(value=0.0, max=855383.0), HTML(value='')))"
            ]
          },
          "metadata": {
            "tags": []
          }
        },
        {
          "output_type": "stream",
          "text": [
            "\n"
          ],
          "name": "stdout"
        }
      ]
    },
    {
      "cell_type": "code",
      "metadata": {
        "id": "PnpviDsoqL-x"
      },
      "source": [
        "val_df=train_df[train_df.group=='val']\n",
        "train_df=train_df[train_df.group=='train']"
      ],
      "execution_count": null,
      "outputs": []
    },
    {
      "cell_type": "code",
      "metadata": {
        "id": "HxdYfMbsvJ_f",
        "colab": {
          "base_uri": "https://localhost:8080/",
          "height": 171,
          "referenced_widgets": [
            "00e84e8c7598465586abe3d96eea9c45",
            "1d52ffc4c9954e7db342701a454f6458",
            "7d0001a8b5c94e57b4336d6d853571dc",
            "0c1f0fbf8da54f768053e22bd4c513a9",
            "ad6192214ef84dfdb45d6be33dc44dea",
            "1400a3d4bf254fa8a865d3469ed20937",
            "995cebd515414681bbe9ba9adfe9b4c0",
            "73a6e1b764094071bb02e8a4abf494b4"
          ]
        },
        "outputId": "6e6a8679-ceb9-4299-9bc6-a9a841a8e4d3"
      },
      "source": [
        "def find_val_label(x):\n",
        "  labels=[]\n",
        "  for label in val_group:\n",
        "    if label in x:\n",
        "      labels.append(label)\n",
        "  return '|'.join(labels)\n",
        "val_df.label=val_df.text.progress_apply(find_val_label)"
      ],
      "execution_count": null,
      "outputs": [
        {
          "output_type": "display_data",
          "data": {
            "application/vnd.jupyter.widget-view+json": {
              "model_id": "00e84e8c7598465586abe3d96eea9c45",
              "version_minor": 0,
              "version_major": 2
            },
            "text/plain": [
              "HBox(children=(FloatProgress(value=0.0, max=163113.0), HTML(value='')))"
            ]
          },
          "metadata": {
            "tags": []
          }
        },
        {
          "output_type": "stream",
          "text": [
            "\n"
          ],
          "name": "stdout"
        },
        {
          "output_type": "stream",
          "text": [
            "/usr/local/lib/python3.7/dist-packages/pandas/core/generic.py:5170: SettingWithCopyWarning: \n",
            "A value is trying to be set on a copy of a slice from a DataFrame.\n",
            "Try using .loc[row_indexer,col_indexer] = value instead\n",
            "\n",
            "See the caveats in the documentation: https://pandas.pydata.org/pandas-docs/stable/user_guide/indexing.html#returning-a-view-versus-a-copy\n",
            "  self[name] = value\n"
          ],
          "name": "stderr"
        }
      ]
    },
    {
      "cell_type": "code",
      "metadata": {
        "id": "AWNTbo3De42c"
      },
      "source": [
        "train_df.to_csv(f'/content/drive/MyDrive/ColeridgeInitiative/train_group_{Config.MAX_LENGTH}.csv',index=False)\n",
        "val_df.to_csv(f'/content/drive/MyDrive/ColeridgeInitiative/val_group_{Config.MAX_LENGTH}.csv',index=False)"
      ],
      "execution_count": null,
      "outputs": []
    },
    {
      "cell_type": "code",
      "metadata": {
        "colab": {
          "base_uri": "https://localhost:8080/",
          "height": 424
        },
        "id": "105SO7mlnERa",
        "outputId": "44bb81c8-c474-4899-98af-7ab40a4b01fc"
      },
      "source": [
        "train_df"
      ],
      "execution_count": null,
      "outputs": [
        {
          "output_type": "execute_result",
          "data": {
            "text/html": [
              "<div>\n",
              "<style scoped>\n",
              "    .dataframe tbody tr th:only-of-type {\n",
              "        vertical-align: middle;\n",
              "    }\n",
              "\n",
              "    .dataframe tbody tr th {\n",
              "        vertical-align: top;\n",
              "    }\n",
              "\n",
              "    .dataframe thead th {\n",
              "        text-align: right;\n",
              "    }\n",
              "</style>\n",
              "<table border=\"1\" class=\"dataframe\">\n",
              "  <thead>\n",
              "    <tr style=\"text-align: right;\">\n",
              "      <th></th>\n",
              "      <th>id</th>\n",
              "      <th>text</th>\n",
              "      <th>pub_titles</th>\n",
              "      <th>label</th>\n",
              "      <th>group</th>\n",
              "    </tr>\n",
              "  </thead>\n",
              "  <tbody>\n",
              "    <tr>\n",
              "      <th>0</th>\n",
              "      <td>d0fa7568-7d8e-4db9-870f-f9c6f668c17b</td>\n",
              "      <td>this study used data from the national educati...</td>\n",
              "      <td>The Impact of Dual Enrollment on College Degre...</td>\n",
              "      <td>national education longitudinal study</td>\n",
              "      <td>train</td>\n",
              "    </tr>\n",
              "    <tr>\n",
              "      <th>1</th>\n",
              "      <td>d0fa7568-7d8e-4db9-870f-f9c6f668c17b</td>\n",
              "      <td>coursework and enabling students to accumulat...</td>\n",
              "      <td>The Impact of Dual Enrollment on College Degre...</td>\n",
              "      <td></td>\n",
              "      <td>train</td>\n",
              "    </tr>\n",
              "    <tr>\n",
              "      <th>2</th>\n",
              "      <td>d0fa7568-7d8e-4db9-870f-f9c6f668c17b</td>\n",
              "      <td>enrollment course were not more likely to att...</td>\n",
              "      <td>The Impact of Dual Enrollment on College Degre...</td>\n",
              "      <td></td>\n",
              "      <td>train</td>\n",
              "    </tr>\n",
              "    <tr>\n",
              "      <th>3</th>\n",
              "      <td>d0fa7568-7d8e-4db9-870f-f9c6f668c17b</td>\n",
              "      <td>the nels sample who attended college and part...</td>\n",
              "      <td>The Impact of Dual Enrollment on College Degre...</td>\n",
              "      <td>national education longitudinal study</td>\n",
              "      <td>train</td>\n",
              "    </tr>\n",
              "    <tr>\n",
              "      <th>4</th>\n",
              "      <td>d0fa7568-7d8e-4db9-870f-f9c6f668c17b</td>\n",
              "      <td>were included in the study the effect size is...</td>\n",
              "      <td>The Impact of Dual Enrollment on College Degre...</td>\n",
              "      <td></td>\n",
              "      <td>train</td>\n",
              "    </tr>\n",
              "    <tr>\n",
              "      <th>...</th>\n",
              "      <td>...</td>\n",
              "      <td>...</td>\n",
              "      <td>...</td>\n",
              "      <td>...</td>\n",
              "      <td>...</td>\n",
              "    </tr>\n",
              "    <tr>\n",
              "      <th>855376</th>\n",
              "      <td>fd23e7e0-a5d2-4f98-992d-9209c85153bb</td>\n",
              "      <td>section in total 257 distinct mcss were calcu...</td>\n",
              "      <td>A ligand-based computational drug repurposing ...</td>\n",
              "      <td></td>\n",
              "      <td>train</td>\n",
              "    </tr>\n",
              "    <tr>\n",
              "      <th>855378</th>\n",
              "      <td>fd23e7e0-a5d2-4f98-992d-9209c85153bb</td>\n",
              "      <td>db 4 unique structures have been fetched from ...</td>\n",
              "      <td>A ligand-based computational drug repurposing ...</td>\n",
              "      <td></td>\n",
              "      <td>train</td>\n",
              "    </tr>\n",
              "    <tr>\n",
              "      <th>855379</th>\n",
              "      <td>fd23e7e0-a5d2-4f98-992d-9209c85153bb</td>\n",
              "      <td>structural query it appears interesting that ...</td>\n",
              "      <td>A ligand-based computational drug repurposing ...</td>\n",
              "      <td></td>\n",
              "      <td>train</td>\n",
              "    </tr>\n",
              "    <tr>\n",
              "      <th>855380</th>\n",
              "      <td>fd23e7e0-a5d2-4f98-992d-9209c85153bb</td>\n",
              "      <td>steps of the workflow tutorials and the diffe...</td>\n",
              "      <td>A ligand-based computational drug repurposing ...</td>\n",
              "      <td></td>\n",
              "      <td>train</td>\n",
              "    </tr>\n",
              "    <tr>\n",
              "      <th>855381</th>\n",
              "      <td>fd23e7e0-a5d2-4f98-992d-9209c85153bb</td>\n",
              "      <td>silico drug repurposing the consecutive data ...</td>\n",
              "      <td>A ligand-based computational drug repurposing ...</td>\n",
              "      <td></td>\n",
              "      <td>train</td>\n",
              "    </tr>\n",
              "  </tbody>\n",
              "</table>\n",
              "<p>675761 rows × 5 columns</p>\n",
              "</div>"
            ],
            "text/plain": [
              "                                          id  ...  group\n",
              "0       d0fa7568-7d8e-4db9-870f-f9c6f668c17b  ...  train\n",
              "1       d0fa7568-7d8e-4db9-870f-f9c6f668c17b  ...  train\n",
              "2       d0fa7568-7d8e-4db9-870f-f9c6f668c17b  ...  train\n",
              "3       d0fa7568-7d8e-4db9-870f-f9c6f668c17b  ...  train\n",
              "4       d0fa7568-7d8e-4db9-870f-f9c6f668c17b  ...  train\n",
              "...                                      ...  ...    ...\n",
              "855376  fd23e7e0-a5d2-4f98-992d-9209c85153bb  ...  train\n",
              "855378  fd23e7e0-a5d2-4f98-992d-9209c85153bb  ...  train\n",
              "855379  fd23e7e0-a5d2-4f98-992d-9209c85153bb  ...  train\n",
              "855380  fd23e7e0-a5d2-4f98-992d-9209c85153bb  ...  train\n",
              "855381  fd23e7e0-a5d2-4f98-992d-9209c85153bb  ...  train\n",
              "\n",
              "[675761 rows x 5 columns]"
            ]
          },
          "metadata": {
            "tags": []
          },
          "execution_count": 25
        }
      ]
    },
    {
      "cell_type": "code",
      "metadata": {
        "colab": {
          "base_uri": "https://localhost:8080/"
        },
        "id": "QCADs1uVR2CE",
        "outputId": "57f7f5b0-01c7-4a35-f895-f7df7ce036a8"
      },
      "source": [
        "#select all the positive samples and 5% of all negative samples\n",
        "train_df['will_take']=train_df.label.apply(lambda x: len(x)>0 or np.random.rand()<0.05)\n",
        "train_df[train_df.will_take][train_df.columns[:-1]].to_csv(f'/content/drive/MyDrive/ColeridgeInitiative/train_sampled_{Config.MAX_LENGTH}.csv',index=False)"
      ],
      "execution_count": null,
      "outputs": [
        {
          "output_type": "stream",
          "text": [
            "/usr/local/lib/python3.7/dist-packages/ipykernel_launcher.py:2: SettingWithCopyWarning: \n",
            "A value is trying to be set on a copy of a slice from a DataFrame.\n",
            "Try using .loc[row_indexer,col_indexer] = value instead\n",
            "\n",
            "See the caveats in the documentation: https://pandas.pydata.org/pandas-docs/stable/user_guide/indexing.html#returning-a-view-versus-a-copy\n",
            "  \n"
          ],
          "name": "stderr"
        }
      ]
    },
    {
      "cell_type": "code",
      "metadata": {
        "id": "oYBdX6VVksaV"
      },
      "source": [
        "train_sampled=pd.read_csv(f'/content/drive/MyDrive/ColeridgeInitiative/train_sampled_{Config.MAX_LENGTH}.csv')"
      ],
      "execution_count": null,
      "outputs": []
    },
    {
      "cell_type": "code",
      "metadata": {
        "id": "1g4lIHZYkzhv"
      },
      "source": [
        "train_sampled=train_sampled.fillna(\"\")"
      ],
      "execution_count": null,
      "outputs": []
    },
    {
      "cell_type": "code",
      "metadata": {
        "colab": {
          "base_uri": "https://localhost:8080/",
          "height": 597
        },
        "id": "DEL4NV_0l4_x",
        "outputId": "1e53002b-af4a-436d-df99-cf2108656708"
      },
      "source": [
        "train_sampled"
      ],
      "execution_count": null,
      "outputs": [
        {
          "output_type": "execute_result",
          "data": {
            "text/html": [
              "<div>\n",
              "<style scoped>\n",
              "    .dataframe tbody tr th:only-of-type {\n",
              "        vertical-align: middle;\n",
              "    }\n",
              "\n",
              "    .dataframe tbody tr th {\n",
              "        vertical-align: top;\n",
              "    }\n",
              "\n",
              "    .dataframe thead th {\n",
              "        text-align: right;\n",
              "    }\n",
              "</style>\n",
              "<table border=\"1\" class=\"dataframe\">\n",
              "  <thead>\n",
              "    <tr style=\"text-align: right;\">\n",
              "      <th></th>\n",
              "      <th>id</th>\n",
              "      <th>text</th>\n",
              "      <th>pub_titles</th>\n",
              "      <th>label</th>\n",
              "      <th>group</th>\n",
              "    </tr>\n",
              "  </thead>\n",
              "  <tbody>\n",
              "    <tr>\n",
              "      <th>0</th>\n",
              "      <td>d0fa7568-7d8e-4db9-870f-f9c6f668c17b</td>\n",
              "      <td>this study used data from the national educati...</td>\n",
              "      <td>The Impact of Dual Enrollment on College Degre...</td>\n",
              "      <td>national education longitudinal study</td>\n",
              "      <td>train</td>\n",
              "    </tr>\n",
              "    <tr>\n",
              "      <th>1</th>\n",
              "      <td>d0fa7568-7d8e-4db9-870f-f9c6f668c17b</td>\n",
              "      <td>enrollment course were not more likely to att...</td>\n",
              "      <td>The Impact of Dual Enrollment on College Degre...</td>\n",
              "      <td></td>\n",
              "      <td>train</td>\n",
              "    </tr>\n",
              "    <tr>\n",
              "      <th>2</th>\n",
              "      <td>d0fa7568-7d8e-4db9-870f-f9c6f668c17b</td>\n",
              "      <td>the nels sample who attended college and part...</td>\n",
              "      <td>The Impact of Dual Enrollment on College Degre...</td>\n",
              "      <td>national education longitudinal study</td>\n",
              "      <td>train</td>\n",
              "    </tr>\n",
              "    <tr>\n",
              "      <th>3</th>\n",
              "      <td>2f26f645-3dec-485d-b68d-f013c9e05e60</td>\n",
              "      <td>dropping out of high school is not necessarily...</td>\n",
              "      <td>Educational Attainment of High School Dropouts...</td>\n",
              "      <td>national education longitudinal study</td>\n",
              "      <td>train</td>\n",
              "    </tr>\n",
              "    <tr>\n",
              "      <th>4</th>\n",
              "      <td>2f26f645-3dec-485d-b68d-f013c9e05e60</td>\n",
              "      <td>as dropouts after they had dropped out of hig...</td>\n",
              "      <td>Educational Attainment of High School Dropouts...</td>\n",
              "      <td>national education longitudinal study</td>\n",
              "      <td>train</td>\n",
              "    </tr>\n",
              "    <tr>\n",
              "      <th>...</th>\n",
              "      <td>...</td>\n",
              "      <td>...</td>\n",
              "      <td>...</td>\n",
              "      <td>...</td>\n",
              "      <td>...</td>\n",
              "    </tr>\n",
              "    <tr>\n",
              "      <th>74995</th>\n",
              "      <td>fd23e7e0-a5d2-4f98-992d-9209c85153bb</td>\n",
              "      <td>have been collected for protein x and these a...</td>\n",
              "      <td>A ligand-based computational drug repurposing ...</td>\n",
              "      <td></td>\n",
              "      <td>train</td>\n",
              "    </tr>\n",
              "    <tr>\n",
              "      <th>74996</th>\n",
              "      <td>fd23e7e0-a5d2-4f98-992d-9209c85153bb</td>\n",
              "      <td>silico drug repurposing the consecutive data ...</td>\n",
              "      <td>A ligand-based computational drug repurposing ...</td>\n",
              "      <td></td>\n",
              "      <td>train</td>\n",
              "    </tr>\n",
              "    <tr>\n",
              "      <th>74997</th>\n",
              "      <td>fd23e7e0-a5d2-4f98-992d-9209c85153bb</td>\n",
              "      <td>target identification and prioritization by p...</td>\n",
              "      <td>A ligand-based computational drug repurposing ...</td>\n",
              "      <td>cas covid 19 antiviral candidate compounds data</td>\n",
              "      <td>train</td>\n",
              "    </tr>\n",
              "    <tr>\n",
              "      <th>74998</th>\n",
              "      <td>fd23e7e0-a5d2-4f98-992d-9209c85153bb</td>\n",
              "      <td>bank 7 and the cas covid 19 antiviral candida...</td>\n",
              "      <td>A ligand-based computational drug repurposing ...</td>\n",
              "      <td>cas covid 19 antiviral candidate compounds data</td>\n",
              "      <td>train</td>\n",
              "    </tr>\n",
              "    <tr>\n",
              "      <th>74999</th>\n",
              "      <td>fd23e7e0-a5d2-4f98-992d-9209c85153bb</td>\n",
              "      <td>separate columns in this contribution a semia...</td>\n",
              "      <td>A ligand-based computational drug repurposing ...</td>\n",
              "      <td></td>\n",
              "      <td>train</td>\n",
              "    </tr>\n",
              "  </tbody>\n",
              "</table>\n",
              "<p>75000 rows × 5 columns</p>\n",
              "</div>"
            ],
            "text/plain": [
              "                                         id  ...  group\n",
              "0      d0fa7568-7d8e-4db9-870f-f9c6f668c17b  ...  train\n",
              "1      d0fa7568-7d8e-4db9-870f-f9c6f668c17b  ...  train\n",
              "2      d0fa7568-7d8e-4db9-870f-f9c6f668c17b  ...  train\n",
              "3      2f26f645-3dec-485d-b68d-f013c9e05e60  ...  train\n",
              "4      2f26f645-3dec-485d-b68d-f013c9e05e60  ...  train\n",
              "...                                     ...  ...    ...\n",
              "74995  fd23e7e0-a5d2-4f98-992d-9209c85153bb  ...  train\n",
              "74996  fd23e7e0-a5d2-4f98-992d-9209c85153bb  ...  train\n",
              "74997  fd23e7e0-a5d2-4f98-992d-9209c85153bb  ...  train\n",
              "74998  fd23e7e0-a5d2-4f98-992d-9209c85153bb  ...  train\n",
              "74999  fd23e7e0-a5d2-4f98-992d-9209c85153bb  ...  train\n",
              "\n",
              "[75000 rows x 5 columns]"
            ]
          },
          "metadata": {
            "tags": []
          },
          "execution_count": 16
        }
      ]
    },
    {
      "cell_type": "code",
      "metadata": {
        "colab": {
          "base_uri": "https://localhost:8080/",
          "height": 300
        },
        "id": "FERGXBks_S92",
        "outputId": "15ba2ef7-85a6-40d7-c7cc-8adc8532d5dc"
      },
      "source": [
        "train_sampled['length']=train_sampled.label.apply(lambda x:len(x))\n",
        "train_sampled.describe()"
      ],
      "execution_count": null,
      "outputs": [
        {
          "output_type": "execute_result",
          "data": {
            "text/html": [
              "<div>\n",
              "<style scoped>\n",
              "    .dataframe tbody tr th:only-of-type {\n",
              "        vertical-align: middle;\n",
              "    }\n",
              "\n",
              "    .dataframe tbody tr th {\n",
              "        vertical-align: top;\n",
              "    }\n",
              "\n",
              "    .dataframe thead th {\n",
              "        text-align: right;\n",
              "    }\n",
              "</style>\n",
              "<table border=\"1\" class=\"dataframe\">\n",
              "  <thead>\n",
              "    <tr style=\"text-align: right;\">\n",
              "      <th></th>\n",
              "      <th>length</th>\n",
              "    </tr>\n",
              "  </thead>\n",
              "  <tbody>\n",
              "    <tr>\n",
              "      <th>count</th>\n",
              "      <td>75000.000000</td>\n",
              "    </tr>\n",
              "    <tr>\n",
              "      <th>mean</th>\n",
              "      <td>12.598627</td>\n",
              "    </tr>\n",
              "    <tr>\n",
              "      <th>std</th>\n",
              "      <td>17.200965</td>\n",
              "    </tr>\n",
              "    <tr>\n",
              "      <th>min</th>\n",
              "      <td>0.000000</td>\n",
              "    </tr>\n",
              "    <tr>\n",
              "      <th>25%</th>\n",
              "      <td>0.000000</td>\n",
              "    </tr>\n",
              "    <tr>\n",
              "      <th>50%</th>\n",
              "      <td>4.000000</td>\n",
              "    </tr>\n",
              "    <tr>\n",
              "      <th>75%</th>\n",
              "      <td>27.000000</td>\n",
              "    </tr>\n",
              "    <tr>\n",
              "      <th>max</th>\n",
              "      <td>128.000000</td>\n",
              "    </tr>\n",
              "  </tbody>\n",
              "</table>\n",
              "</div>"
            ],
            "text/plain": [
              "             length\n",
              "count  75000.000000\n",
              "mean      12.598627\n",
              "std       17.200965\n",
              "min        0.000000\n",
              "25%        0.000000\n",
              "50%        4.000000\n",
              "75%       27.000000\n",
              "max      128.000000"
            ]
          },
          "metadata": {
            "tags": []
          },
          "execution_count": 17
        }
      ]
    },
    {
      "cell_type": "code",
      "metadata": {
        "colab": {
          "base_uri": "https://localhost:8080/"
        },
        "id": "BEBv4Zmo_hv2",
        "outputId": "7614ea0a-c7c4-4027-808c-9d2e369770b4"
      },
      "source": [
        "print(len(train_sampled[train_sampled.length==0]))"
      ],
      "execution_count": null,
      "outputs": [
        {
          "output_type": "stream",
          "text": [
            "31505\n"
          ],
          "name": "stdout"
        }
      ]
    },
    {
      "cell_type": "code",
      "metadata": {
        "id": "pxU40sfZxBS6"
      },
      "source": [
        "train_sampled.text=train_sampled.text.apply(lambda x:\" \".join(x.lower().split(\" \")))\n",
        "train_sampled.label=train_sampled.label.apply(lambda x:\" \".join(x.lower().split(\" \")))"
      ],
      "execution_count": null,
      "outputs": []
    },
    {
      "cell_type": "code",
      "metadata": {
        "colab": {
          "base_uri": "https://localhost:8080/",
          "height": 66,
          "referenced_widgets": [
            "06c11fee597c474aaab2a837043326ac",
            "b6e5eefbcf3046898f9acd787e00ada3",
            "9e4d56dd2bdc4057b0b86c62a788ba6e",
            "0b7afdff1675480abea46a5378a91826",
            "41c6285e6e8f4225b577c82fca7564de",
            "397668a6c76e467fa12ecd5b9ff4b5a3",
            "004ce136975e45119316a47db425f1c5",
            "1e416f171e1f4ea4abcd24bf439cf461"
          ]
        },
        "id": "Jl35Mcsyy6yy",
        "outputId": "e2297b6a-3d7a-454c-9b20-88bea649e334"
      },
      "source": [
        "for idx,row in tqdm(train_sampled.iterrows(),total=len(train_sampled)):\n",
        "  text=row.text\n",
        "  label=row.label\n",
        "  if text.find(label)==-1:\n",
        "    print(row.id)"
      ],
      "execution_count": null,
      "outputs": [
        {
          "output_type": "display_data",
          "data": {
            "application/vnd.jupyter.widget-view+json": {
              "model_id": "06c11fee597c474aaab2a837043326ac",
              "version_minor": 0,
              "version_major": 2
            },
            "text/plain": [
              "HBox(children=(FloatProgress(value=0.0, max=75000.0), HTML(value='')))"
            ]
          },
          "metadata": {
            "tags": []
          }
        },
        {
          "output_type": "stream",
          "text": [
            "\n"
          ],
          "name": "stdout"
        }
      ]
    },
    {
      "cell_type": "code",
      "metadata": {
        "id": "D-POrjFdyVRt"
      },
      "source": [
        "def get_index(text,label,offsets):\n",
        "  start_index=text.find(label)\n",
        "  if start_index!=-1:\n",
        "    end_index=start_index+len(label)-1\n",
        "    temp=[0]*len(text)\n",
        "    for i in range(start_index,end_index+1):\n",
        "      temp[i]=1\n",
        "    list_index=[]\n",
        "    for i,(offset1,offset2) in enumerate(offsets):\n",
        "      if sum(temp[offset1:offset2]) >0:\n",
        "        list_index.append(i)\n",
        "    return list_index[0],list_index[-1]\n",
        "  return None,None"
      ],
      "execution_count": null,
      "outputs": []
    },
    {
      "cell_type": "code",
      "metadata": {
        "id": "8uXU_HLSxP0O"
      },
      "source": [
        "vocab=tokenizer.get_vocab()\n",
        "pad_token_idx = vocab['<pad>']\n",
        "cls_token_idx = vocab['<s>']\n",
        "sep_token_idx = vocab['</s>']"
      ],
      "execution_count": null,
      "outputs": []
    },
    {
      "cell_type": "code",
      "metadata": {
        "id": "zteYaitE8rJU"
      },
      "source": [
        "def convert_lines(tokenizer,df,max_sequence_length=512,is_test=False):\n",
        "  count_temp=0\n",
        "  outputs=np.zeros((len(df),max_sequence_length+2))\n",
        "  type_outputs=np.zeros((len(df),max_sequence_length+2))\n",
        "  position_outputs=np.zeros((len(df),2))\n",
        "  offsets_outputs=np.ones((len(df),))\n",
        "  for idx,row in tqdm(df.iterrows(),total=len(df)):\n",
        "    token=tokenizer.encode(row.text,add_special_tokens=False)\n",
        "    input_ids=[cls_token_idx]+token.ids+[sep_token_idx]\n",
        "    offsets=[(0,0)]+token.offsets+[(0,0)]\n",
        "    if len(input_ids)>max_sequence_length+2:\n",
        "      input_ids=input_ids[:max_sequence_length]\n",
        "      input_ids[-1]=sep_token_idx\n",
        "    else:\n",
        "      input_ids=input_ids+[pad_token_idx]*(max_sequence_length+2-len(input_ids))\n",
        "    token_type_id=[0]*len(input_ids)\n",
        "    outputs[idx,:]=np.array(input_ids)\n",
        "    type_outputs[idx,:]=np.array(token_type_id)\n",
        "    if is_test:\n",
        "      continue\n",
        "    label=row.label\n",
        "    if len(label)==0:\n",
        "      position_outputs[idx,:]=[0,0]\n",
        "    else:\n",
        "      start_idx,end_idx=get_index(row.text,label,offsets)\n",
        "      if start_idx is None:\n",
        "        start_idx,end_idx=0,0\n",
        "        count_temp+=1\n",
        "      position_outputs[idx,:]=[start_idx,end_idx]\n",
        "  print(f\"Number sentence:{count_temp}\")\n",
        "  if is_test:\n",
        "    return outputs,type_outputs\n",
        "  else:\n",
        "    return outputs,type_outputs,position_outputs"
      ],
      "execution_count": null,
      "outputs": []
    },
    {
      "cell_type": "code",
      "metadata": {
        "colab": {
          "base_uri": "https://localhost:8080/",
          "height": 84,
          "referenced_widgets": [
            "625b5dc15ffb4f70975f0aa07a699e67",
            "d0f16e6d4f0c4c449b20e7549e1aba8f",
            "de37f5ee0e10495da98e4d1c581eddbd",
            "479c230aecbe43bda820bfba3b4be334",
            "0ce2c6d9e3264c8385bec7b9e95650b6",
            "7c75d6ca8c0844899dd9b0401815db81",
            "2fccd83b9e78454b86830053e99675c7",
            "9c382e9f33174fdd8926bcef32c618a9"
          ]
        },
        "id": "2mpNUIV_A7W0",
        "outputId": "5f4a1db7-2d6e-4d4e-c323-43ecd8ced700"
      },
      "source": [
        "outputs,type_outputs,potision_outputs=convert_lines(tokenizer,train_sampled,Config.MAX_LENGTH)"
      ],
      "execution_count": null,
      "outputs": [
        {
          "output_type": "display_data",
          "data": {
            "application/vnd.jupyter.widget-view+json": {
              "model_id": "625b5dc15ffb4f70975f0aa07a699e67",
              "version_minor": 0,
              "version_major": 2
            },
            "text/plain": [
              "HBox(children=(FloatProgress(value=0.0, max=75000.0), HTML(value='')))"
            ]
          },
          "metadata": {
            "tags": []
          }
        },
        {
          "output_type": "stream",
          "text": [
            "\n",
            "Number sentence:0\n"
          ],
          "name": "stdout"
        }
      ]
    },
    {
      "cell_type": "code",
      "metadata": {
        "id": "sqjQmvZW2dqg",
        "colab": {
          "base_uri": "https://localhost:8080/"
        },
        "outputId": "b549f36b-bf9b-4cf6-cdb0-104c9f0b6e1e"
      },
      "source": [
        "print(max(potision_outputs[:,1]))"
      ],
      "execution_count": null,
      "outputs": [
        {
          "output_type": "stream",
          "text": [
            "256.0\n"
          ],
          "name": "stdout"
        }
      ]
    },
    {
      "cell_type": "code",
      "metadata": {
        "id": "orpItvn9psmg"
      },
      "source": [
        "import pickle \n",
        "pickle.dump((outputs,type_outputs,potision_outputs),open(f\"/content/drive/MyDrive/ColeridgeInitiative/train.pickle\",'wb'),)"
      ],
      "execution_count": null,
      "outputs": []
    }
  ]
}